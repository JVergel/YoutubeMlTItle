{
 "cells": [
  {
   "cell_type": "code",
   "execution_count": 1,
   "metadata": {},
   "outputs": [],
   "source": [
    "import pandas as pd\n",
    "import os\n",
    "import google.oauth2.credentials\n",
    "import google_auth_oauthlib.flow\n",
    "from googleapiclient.discovery import build\n",
    "from googleapiclient.errors import HttpError\n",
    "from google_auth_oauthlib.flow import InstalledAppFlow"
   ]
  },
  {
   "cell_type": "code",
   "execution_count": 2,
   "metadata": {},
   "outputs": [],
   "source": [
    "CLIENT_SECRETS_FILE = \"client_secret.json\"\n",
    "SCOPES = ['https://www.googleapis.com/auth/youtube.force-ssl']\n",
    "API_SERVICE_NAME = 'youtube'\n",
    "API_VERSION = 'v3'\n",
    "def get_authenticated_service():\n",
    "    flow = InstalledAppFlow.from_client_secrets_file(CLIENT_SECRETS_FILE, SCOPES)\n",
    "    credentials = flow.run_console()\n",
    "    return build(API_SERVICE_NAME, API_VERSION, credentials = credentials)\n",
    "# Remove keyword arguments that are not set\n",
    "def remove_empty_kwargs(**kwargs):\n",
    "    good_kwargs = {}\n",
    "    if kwargs is not None:\n",
    "        for key, value in kwargs.items():\n",
    "            if value:\n",
    "                good_kwargs[key] = value\n",
    "    return good_kwargs"
   ]
  },
  {
   "cell_type": "code",
   "execution_count": 3,
   "metadata": {},
   "outputs": [
    {
     "name": "stdout",
     "output_type": "stream",
     "text": [
      "Please visit this URL to authorize this application: https://accounts.google.com/o/oauth2/auth?response_type=code&client_id=1092637132049-9c3hrod2j6b7ev9scpsdql16nn4u90tv.apps.googleusercontent.com&redirect_uri=urn%3Aietf%3Awg%3Aoauth%3A2.0%3Aoob&scope=https%3A%2F%2Fwww.googleapis.com%2Fauth%2Fyoutube.force-ssl&state=OmmvTKlGwmfePNksx1MzJGxvOjI5aL&prompt=consent&access_type=offline\n",
      "Enter the authorization code: 4/1AY0e-g7toJfgE4D6q0yrCwxrGaLs-2mrtBBe4OGM2HqF4YRXPpchsqLYJP0\n"
     ]
    }
   ],
   "source": [
    "client = get_authenticated_service()"
   ]
  },
  {
   "cell_type": "code",
   "execution_count": 4,
   "metadata": {},
   "outputs": [],
   "source": [
    "def youtube_keyword(client, **kwargs):    \n",
    "    kwargs = remove_empty_kwargs(**kwargs)\n",
    "    response = client.search().list(\n",
    "        **kwargs\n",
    "        ).execute()    \n",
    "    return response"
   ]
  },
  {
   "cell_type": "code",
   "execution_count": 5,
   "metadata": {},
   "outputs": [],
   "source": [
    "def youtube_keyword(client, **kwargs):    \n",
    "    kwargs = remove_empty_kwargs(**kwargs)\n",
    "    response = client.search().list(\n",
    "        **kwargs\n",
    "        ).execute()    \n",
    "    return response"
   ]
  },
  {
   "cell_type": "code",
   "execution_count": 8,
   "metadata": {},
   "outputs": [
    {
     "data": {
      "text/plain": [
       "(1000, 4)"
      ]
     },
     "execution_count": 8,
     "metadata": {},
     "output_type": "execute_result"
    }
   ],
   "source": []
  },
  {
   "cell_type": "code",
   "execution_count": 6,
   "metadata": {},
   "outputs": [],
   "source": [
    "def youtube_search (criteria,max_res):   \n",
    "    #create lists and empty dataframe\n",
    "    titles = []\n",
    "    videoIds = []\n",
    "    channelIds = []\n",
    "    resp_df = pd.DataFrame()\n",
    "    \n",
    "    while len(titles) < max_res:\n",
    "        token = None\n",
    "        response = youtube_keyword(client,\n",
    "                        part='id,snippet',\n",
    "                        maxResults=50,\n",
    "                        q=criteria,\n",
    "                        videoCaption='closedCaption',\n",
    "                        type='video', \n",
    "                        videoDuration='long',\n",
    "                        pageToken=token) \n",
    "                                         \n",
    "        for item in response['items']:        \n",
    "            titles.append(item['snippet']['title'])\n",
    "            channelIds.append(item['snippet']['channelTitle'])\n",
    "            videoIds.append(item['id']['videoId'])\n",
    "        \n",
    "        token = response['nextPageToken']\n",
    "        \n",
    "    resp_df['title'] = titles\n",
    "    resp_df['channelId'] = channelIds\n",
    "    resp_df['videoId'] = videoIds\n",
    "    resp_df['subject'] = criteria\n",
    "    \n",
    "    return resp_df"
   ]
  },
  {
   "cell_type": "code",
   "execution_count": 9,
   "metadata": {},
   "outputs": [
    {
     "data": {
      "text/html": [
       "<div>\n",
       "<style scoped>\n",
       "    .dataframe tbody tr th:only-of-type {\n",
       "        vertical-align: middle;\n",
       "    }\n",
       "\n",
       "    .dataframe tbody tr th {\n",
       "        vertical-align: top;\n",
       "    }\n",
       "\n",
       "    .dataframe thead th {\n",
       "        text-align: right;\n",
       "    }\n",
       "</style>\n",
       "<table border=\"1\" class=\"dataframe\">\n",
       "  <thead>\n",
       "    <tr style=\"text-align: right;\">\n",
       "      <th></th>\n",
       "      <th>title</th>\n",
       "      <th>channelId</th>\n",
       "      <th>videoId</th>\n",
       "      <th>subject</th>\n",
       "    </tr>\n",
       "  </thead>\n",
       "  <tbody>\n",
       "    <tr>\n",
       "      <th>0</th>\n",
       "      <td>The Worst Animated Stories On Youtube (My Stor...</td>\n",
       "      <td>Jarvis Johnson</td>\n",
       "      <td>384qFPXCuO4</td>\n",
       "      <td>[my+story+animated]</td>\n",
       "    </tr>\n",
       "    <tr>\n",
       "      <th>1</th>\n",
       "      <td>These Fake Animated Stories Have Gone Too Far ...</td>\n",
       "      <td>Jarvis Johnson</td>\n",
       "      <td>VzsSLpAgNcQ</td>\n",
       "      <td>[my+story+animated]</td>\n",
       "    </tr>\n",
       "    <tr>\n",
       "      <th>2</th>\n",
       "      <td>REACTING TO TRUE STORY SCARY ANIMATIONS PART 1...</td>\n",
       "      <td>Marshmello Family</td>\n",
       "      <td>Ytw62uoo-EM</td>\n",
       "      <td>[my+story+animated]</td>\n",
       "    </tr>\n",
       "    <tr>\n",
       "      <th>3</th>\n",
       "      <td>Fake Animated Stories Are Getting Worse (Actua...</td>\n",
       "      <td>Jarvis Johnson</td>\n",
       "      <td>KWqaUHFhE8M</td>\n",
       "      <td>[my+story+animated]</td>\n",
       "    </tr>\n",
       "    <tr>\n",
       "      <th>4</th>\n",
       "      <td>REACTING TO REAL LIFE SCARY ANIMATIONS! TRUE S...</td>\n",
       "      <td>Bijuu Mike</td>\n",
       "      <td>D4atywMmUVc</td>\n",
       "      <td>[my+story+animated]</td>\n",
       "    </tr>\n",
       "  </tbody>\n",
       "</table>\n",
       "</div>"
      ],
      "text/plain": [
       "                                               title          channelId  \\\n",
       "0  The Worst Animated Stories On Youtube (My Stor...     Jarvis Johnson   \n",
       "1  These Fake Animated Stories Have Gone Too Far ...     Jarvis Johnson   \n",
       "2  REACTING TO TRUE STORY SCARY ANIMATIONS PART 1...  Marshmello Family   \n",
       "3  Fake Animated Stories Are Getting Worse (Actua...     Jarvis Johnson   \n",
       "4  REACTING TO REAL LIFE SCARY ANIMATIONS! TRUE S...         Bijuu Mike   \n",
       "\n",
       "       videoId              subject  \n",
       "0  384qFPXCuO4  [my+story+animated]  \n",
       "1  VzsSLpAgNcQ  [my+story+animated]  \n",
       "2  Ytw62uoo-EM  [my+story+animated]  \n",
       "3  KWqaUHFhE8M  [my+story+animated]  \n",
       "4  D4atywMmUVc  [my+story+animated]  "
      ]
     },
     "execution_count": 9,
     "metadata": {},
     "output_type": "execute_result"
    }
   ],
   "source": [
    "MyStory = youtube_search('[my+story+animated]',1000)\n",
    "MyStory.shape\n",
    "\n",
    "MyStory.head()"
   ]
  },
  {
   "cell_type": "code",
   "execution_count": 7,
   "metadata": {},
   "outputs": [],
   "source": [
    "def playlist_items_list_by_playlist_id(client, **kwargs):\n",
    "    # See full sample for function\n",
    "    kwargs = remove_empty_kwargs(**kwargs)\n",
    "    response = client.playlistItems().list(**kwargs).execute()\n",
    "    return response\n",
    "\n",
    "def get_vid_ids (play_lists):\n",
    "    titles = []\n",
    "    descriptions = []\n",
    "    channelids = []\n",
    "    vidids = []\n",
    "    playlist_ids = []\n",
    "    video_df = pd.DataFrame()\n",
    "    for play_list in play_lists:\n",
    "        #request playlist items\n",
    "        state=True \n",
    "        pl_data = playlist_items_list_by_playlist_id(client,\n",
    "                            part='snippet,contentDetails',\n",
    "                            maxResults=50,\n",
    "                            playlistId=play_list)\n",
    "        token=pl_data['nextPageToken']\n",
    "        \n",
    "        #extract information about each video in the playlist\n",
    "        \n",
    "        for item in pl_data['items']:\n",
    "                titles.append(item['snippet']['title'])\n",
    "                descriptions.append(item['snippet']['description'])\n",
    "                channelids.append(item['snippet']['channelTitle'])\n",
    "                vidids.append(item['snippet']['resourceId']['videoId'])\n",
    "                playlist_ids.append(item['snippet']['playlistId'])\n",
    "        \n",
    "        \n",
    "        while state:\n",
    "            try:\n",
    "                pl_data = playlist_items_list_by_playlist_id(client,\n",
    "                            part='snippet,contentDetails',\n",
    "                            maxResults=50,\n",
    "                            playlistId=play_list,pageToken=token)\n",
    "                token=pl_data['nextPageToken']\n",
    "                \n",
    "                for item in pl_data['items']:\n",
    "                    titles.append(item['snippet']['title'])\n",
    "                    descriptions.append(item['snippet']['description'])\n",
    "                    channelids.append(item['snippet']['channelTitle'])\n",
    "                    vidids.append(item['snippet']['resourceId']['videoId'])\n",
    "                    playlist_ids.append(item['snippet']['playlistId'])\n",
    "                \n",
    "                \n",
    "            except:\n",
    "                state = False \n",
    "                \n",
    "            \n",
    "                \n",
    "    video_df['title'] = titles\n",
    "    video_df['description'] = descriptions\n",
    "    video_df['channelid'] = channelids\n",
    "    video_df['videoids'] = vidids\n",
    "    video_df['playlist_id'] = playlist_ids\n",
    "            \n",
    "                \n",
    "    return video_df"
   ]
  },
  {
   "cell_type": "markdown",
   "metadata": {},
   "source": [
    "Aqui playlist_df lee un cvs con la siguiente estructura, la primer fila la descripcion de la columna\n",
    "que debe ser PlaylistID y LectureName\n",
    "\n",
    "luego en la primer columna va el identificador de una lista de reproducion y en la segunda columna el nombre que queramos para esa lista "
   ]
  },
  {
   "cell_type": "code",
   "execution_count": 8,
   "metadata": {
    "scrolled": true
   },
   "outputs": [
    {
     "data": {
      "text/html": [
       "<div>\n",
       "<style scoped>\n",
       "    .dataframe tbody tr th:only-of-type {\n",
       "        vertical-align: middle;\n",
       "    }\n",
       "\n",
       "    .dataframe tbody tr th {\n",
       "        vertical-align: top;\n",
       "    }\n",
       "\n",
       "    .dataframe thead th {\n",
       "        text-align: right;\n",
       "    }\n",
       "</style>\n",
       "<table border=\"1\" class=\"dataframe\">\n",
       "  <thead>\n",
       "    <tr style=\"text-align: right;\">\n",
       "      <th></th>\n",
       "      <th>PlaylistID</th>\n",
       "      <th>LectureName</th>\n",
       "    </tr>\n",
       "  </thead>\n",
       "  <tbody>\n",
       "    <tr>\n",
       "      <th>0</th>\n",
       "      <td>PLb62x91woEVOzuZjzhsJTsU9fDV3fO3O8</td>\n",
       "      <td>MyStory</td>\n",
       "    </tr>\n",
       "    <tr>\n",
       "      <th>1</th>\n",
       "      <td>PLPWyY8_ho2J6LDG9spxhS3f-_xj5Nfpz6</td>\n",
       "      <td>Dear Diary</td>\n",
       "    </tr>\n",
       "    <tr>\n",
       "      <th>2</th>\n",
       "      <td>PL-LA_5Hiw7wJtPQSsuk9CFDVvagx8tWst</td>\n",
       "      <td>Short</td>\n",
       "    </tr>\n",
       "    <tr>\n",
       "      <th>3</th>\n",
       "      <td>PL-LA_5Hiw7wJtPQSsuk9CFDVvagx8tWst</td>\n",
       "      <td>otra</td>\n",
       "    </tr>\n",
       "    <tr>\n",
       "      <th>4</th>\n",
       "      <td>PLVtWx-uH8EaqZEYNV0e9jmoX0sfjhV8VP</td>\n",
       "      <td>reddit</td>\n",
       "    </tr>\n",
       "  </tbody>\n",
       "</table>\n",
       "</div>"
      ],
      "text/plain": [
       "                           PlaylistID LectureName\n",
       "0  PLb62x91woEVOzuZjzhsJTsU9fDV3fO3O8     MyStory\n",
       "1  PLPWyY8_ho2J6LDG9spxhS3f-_xj5Nfpz6  Dear Diary\n",
       "2  PL-LA_5Hiw7wJtPQSsuk9CFDVvagx8tWst       Short\n",
       "3  PL-LA_5Hiw7wJtPQSsuk9CFDVvagx8tWst        otra\n",
       "4  PLVtWx-uH8EaqZEYNV0e9jmoX0sfjhV8VP      reddit"
      ]
     },
     "execution_count": 8,
     "metadata": {},
     "output_type": "execute_result"
    }
   ],
   "source": [
    "playlist_df = pd.read_csv('listas.csv')\n",
    "playlist_df.head()"
   ]
  },
  {
   "cell_type": "code",
   "execution_count": 9,
   "metadata": {
    "scrolled": true
   },
   "outputs": [
    {
     "data": {
      "text/html": [
       "<div>\n",
       "<style scoped>\n",
       "    .dataframe tbody tr th:only-of-type {\n",
       "        vertical-align: middle;\n",
       "    }\n",
       "\n",
       "    .dataframe tbody tr th {\n",
       "        vertical-align: top;\n",
       "    }\n",
       "\n",
       "    .dataframe thead th {\n",
       "        text-align: right;\n",
       "    }\n",
       "</style>\n",
       "<table border=\"1\" class=\"dataframe\">\n",
       "  <thead>\n",
       "    <tr style=\"text-align: right;\">\n",
       "      <th></th>\n",
       "      <th>title</th>\n",
       "      <th>description</th>\n",
       "      <th>channelid</th>\n",
       "      <th>videoids</th>\n",
       "      <th>playlist_id</th>\n",
       "    </tr>\n",
       "  </thead>\n",
       "  <tbody>\n",
       "    <tr>\n",
       "      <th>0</th>\n",
       "      <td>I Regret Cheating On My Boyfriend But He Wont ...</td>\n",
       "      <td>★ DO YOU WANT TO GET YOUR STORY ANIMATED And F...</td>\n",
       "      <td>My Story Animated</td>\n",
       "      <td>m_xT1dmGEA4</td>\n",
       "      <td>PLb62x91woEVOzuZjzhsJTsU9fDV3fO3O8</td>\n",
       "    </tr>\n",
       "    <tr>\n",
       "      <th>1</th>\n",
       "      <td>I Stopped Eating For 2 Weeks To Get Thinner</td>\n",
       "      <td>★ DO YOU WANT TO GET YOUR STORY ANIMATED And F...</td>\n",
       "      <td>My Story Animated</td>\n",
       "      <td>znvv0qk7a-A</td>\n",
       "      <td>PLb62x91woEVOzuZjzhsJTsU9fDV3fO3O8</td>\n",
       "    </tr>\n",
       "    <tr>\n",
       "      <th>2</th>\n",
       "      <td>I Cant Stop Stealing From My Friends And Family</td>\n",
       "      <td>★ DO YOU WANT TO GET YOUR STORY ANIMATED And F...</td>\n",
       "      <td>My Story Animated</td>\n",
       "      <td>AkDbnUu0uw4</td>\n",
       "      <td>PLb62x91woEVOzuZjzhsJTsU9fDV3fO3O8</td>\n",
       "    </tr>\n",
       "    <tr>\n",
       "      <th>3</th>\n",
       "      <td>I Ran Away From Home It Was Terrifying</td>\n",
       "      <td>★ DO YOU WANT TO GET YOUR STORY ANIMATED And F...</td>\n",
       "      <td>My Story Animated</td>\n",
       "      <td>4OdmJPGG7f0</td>\n",
       "      <td>PLb62x91woEVOzuZjzhsJTsU9fDV3fO3O8</td>\n",
       "    </tr>\n",
       "    <tr>\n",
       "      <th>4</th>\n",
       "      <td>My Heart Is Broken Forever Because Of My Mother</td>\n",
       "      <td>I Hated My Mother | My heart is broken forever...</td>\n",
       "      <td>My Story Animated</td>\n",
       "      <td>VjrzlEt_uuU</td>\n",
       "      <td>PLb62x91woEVOzuZjzhsJTsU9fDV3fO3O8</td>\n",
       "    </tr>\n",
       "    <tr>\n",
       "      <th>...</th>\n",
       "      <td>...</td>\n",
       "      <td>...</td>\n",
       "      <td>...</td>\n",
       "      <td>...</td>\n",
       "      <td>...</td>\n",
       "    </tr>\n",
       "    <tr>\n",
       "      <th>645</th>\n",
       "      <td>Crime Scene Cleanup Crew Members, What's Your ...</td>\n",
       "      <td>► Crime Scene Cleanup Crew Members, What's You...</td>\n",
       "      <td>Reddit Reveals</td>\n",
       "      <td>ymRMOwLYATM</td>\n",
       "      <td>PLVtWx-uH8EaqZEYNV0e9jmoX0sfjhV8VP</td>\n",
       "    </tr>\n",
       "    <tr>\n",
       "      <th>646</th>\n",
       "      <td>What Happens In Real Life S*x That You Never S...</td>\n",
       "      <td>► What Happens In Real Life S*x That You Never...</td>\n",
       "      <td>Reddit Reveals</td>\n",
       "      <td>n39Af7Rt8-4</td>\n",
       "      <td>PLVtWx-uH8EaqZEYNV0e9jmoX0sfjhV8VP</td>\n",
       "    </tr>\n",
       "    <tr>\n",
       "      <th>647</th>\n",
       "      <td>Teachers Reveal Their Most NSFW Story From Sch...</td>\n",
       "      <td>► Teachers Reveal Their Most NSFW Story From S...</td>\n",
       "      <td>Reddit Reveals</td>\n",
       "      <td>HgJtIHp2ySk</td>\n",
       "      <td>PLVtWx-uH8EaqZEYNV0e9jmoX0sfjhV8VP</td>\n",
       "    </tr>\n",
       "    <tr>\n",
       "      <th>648</th>\n",
       "      <td>What Are Some “Girl Secrets” Guys Don’t Know A...</td>\n",
       "      <td>► What Are Some “Girl Secrets” Guys Don’t Know...</td>\n",
       "      <td>Reddit Reveals</td>\n",
       "      <td>VjZSuG45fn0</td>\n",
       "      <td>PLVtWx-uH8EaqZEYNV0e9jmoX0sfjhV8VP</td>\n",
       "    </tr>\n",
       "    <tr>\n",
       "      <th>649</th>\n",
       "      <td>What Dark Family Secret Have You Uncovered? (r...</td>\n",
       "      <td>► What Dark Family Secret Have You Uncovered? ...</td>\n",
       "      <td>Reddit Reveals</td>\n",
       "      <td>Tv-KGALsZxA</td>\n",
       "      <td>PLVtWx-uH8EaqZEYNV0e9jmoX0sfjhV8VP</td>\n",
       "    </tr>\n",
       "  </tbody>\n",
       "</table>\n",
       "<p>650 rows × 5 columns</p>\n",
       "</div>"
      ],
      "text/plain": [
       "                                                 title  \\\n",
       "0    I Regret Cheating On My Boyfriend But He Wont ...   \n",
       "1          I Stopped Eating For 2 Weeks To Get Thinner   \n",
       "2      I Cant Stop Stealing From My Friends And Family   \n",
       "3               I Ran Away From Home It Was Terrifying   \n",
       "4      My Heart Is Broken Forever Because Of My Mother   \n",
       "..                                                 ...   \n",
       "645  Crime Scene Cleanup Crew Members, What's Your ...   \n",
       "646  What Happens In Real Life S*x That You Never S...   \n",
       "647  Teachers Reveal Their Most NSFW Story From Sch...   \n",
       "648  What Are Some “Girl Secrets” Guys Don’t Know A...   \n",
       "649  What Dark Family Secret Have You Uncovered? (r...   \n",
       "\n",
       "                                           description          channelid  \\\n",
       "0    ★ DO YOU WANT TO GET YOUR STORY ANIMATED And F...  My Story Animated   \n",
       "1    ★ DO YOU WANT TO GET YOUR STORY ANIMATED And F...  My Story Animated   \n",
       "2    ★ DO YOU WANT TO GET YOUR STORY ANIMATED And F...  My Story Animated   \n",
       "3    ★ DO YOU WANT TO GET YOUR STORY ANIMATED And F...  My Story Animated   \n",
       "4    I Hated My Mother | My heart is broken forever...  My Story Animated   \n",
       "..                                                 ...                ...   \n",
       "645  ► Crime Scene Cleanup Crew Members, What's You...     Reddit Reveals   \n",
       "646  ► What Happens In Real Life S*x That You Never...     Reddit Reveals   \n",
       "647  ► Teachers Reveal Their Most NSFW Story From S...     Reddit Reveals   \n",
       "648  ► What Are Some “Girl Secrets” Guys Don’t Know...     Reddit Reveals   \n",
       "649  ► What Dark Family Secret Have You Uncovered? ...     Reddit Reveals   \n",
       "\n",
       "        videoids                         playlist_id  \n",
       "0    m_xT1dmGEA4  PLb62x91woEVOzuZjzhsJTsU9fDV3fO3O8  \n",
       "1    znvv0qk7a-A  PLb62x91woEVOzuZjzhsJTsU9fDV3fO3O8  \n",
       "2    AkDbnUu0uw4  PLb62x91woEVOzuZjzhsJTsU9fDV3fO3O8  \n",
       "3    4OdmJPGG7f0  PLb62x91woEVOzuZjzhsJTsU9fDV3fO3O8  \n",
       "4    VjrzlEt_uuU  PLb62x91woEVOzuZjzhsJTsU9fDV3fO3O8  \n",
       "..           ...                                 ...  \n",
       "645  ymRMOwLYATM  PLVtWx-uH8EaqZEYNV0e9jmoX0sfjhV8VP  \n",
       "646  n39Af7Rt8-4  PLVtWx-uH8EaqZEYNV0e9jmoX0sfjhV8VP  \n",
       "647  HgJtIHp2ySk  PLVtWx-uH8EaqZEYNV0e9jmoX0sfjhV8VP  \n",
       "648  VjZSuG45fn0  PLVtWx-uH8EaqZEYNV0e9jmoX0sfjhV8VP  \n",
       "649  Tv-KGALsZxA  PLVtWx-uH8EaqZEYNV0e9jmoX0sfjhV8VP  \n",
       "\n",
       "[650 rows x 5 columns]"
      ]
     },
     "execution_count": 9,
     "metadata": {},
     "output_type": "execute_result"
    }
   ],
   "source": [
    "video_df = get_vid_ids(playlist_df.PlaylistID)\n",
    "video_df.shape\n",
    "\n",
    "#check results\n",
    "video_df"
   ]
  },
  {
   "cell_type": "code",
   "execution_count": 8,
   "metadata": {},
   "outputs": [],
   "source": [
    "video_df.to_excel('All.xlsx',index=False)"
   ]
  },
  {
   "cell_type": "code",
   "execution_count": 10,
   "metadata": {},
   "outputs": [
    {
     "data": {
      "text/html": [
       "<div>\n",
       "<style scoped>\n",
       "    .dataframe tbody tr th:only-of-type {\n",
       "        vertical-align: middle;\n",
       "    }\n",
       "\n",
       "    .dataframe tbody tr th {\n",
       "        vertical-align: top;\n",
       "    }\n",
       "\n",
       "    .dataframe thead th {\n",
       "        text-align: right;\n",
       "    }\n",
       "</style>\n",
       "<table border=\"1\" class=\"dataframe\">\n",
       "  <thead>\n",
       "    <tr style=\"text-align: right;\">\n",
       "      <th></th>\n",
       "      <th>index</th>\n",
       "      <th>title</th>\n",
       "      <th>description</th>\n",
       "      <th>channelid</th>\n",
       "      <th>videoids</th>\n",
       "      <th>playlist_id</th>\n",
       "    </tr>\n",
       "  </thead>\n",
       "  <tbody>\n",
       "    <tr>\n",
       "      <th>0</th>\n",
       "      <td>0</td>\n",
       "      <td>I Regret Cheating On My Boyfriend But He Wont ...</td>\n",
       "      <td>★ DO YOU WANT TO GET YOUR STORY ANIMATED And F...</td>\n",
       "      <td>My Story Animated</td>\n",
       "      <td>m_xT1dmGEA4</td>\n",
       "      <td>PLb62x91woEVOzuZjzhsJTsU9fDV3fO3O8</td>\n",
       "    </tr>\n",
       "    <tr>\n",
       "      <th>1</th>\n",
       "      <td>1</td>\n",
       "      <td>I Stopped Eating For 2 Weeks To Get Thinner</td>\n",
       "      <td>★ DO YOU WANT TO GET YOUR STORY ANIMATED And F...</td>\n",
       "      <td>My Story Animated</td>\n",
       "      <td>znvv0qk7a-A</td>\n",
       "      <td>PLb62x91woEVOzuZjzhsJTsU9fDV3fO3O8</td>\n",
       "    </tr>\n",
       "    <tr>\n",
       "      <th>2</th>\n",
       "      <td>2</td>\n",
       "      <td>I Cant Stop Stealing From My Friends And Family</td>\n",
       "      <td>★ DO YOU WANT TO GET YOUR STORY ANIMATED And F...</td>\n",
       "      <td>My Story Animated</td>\n",
       "      <td>AkDbnUu0uw4</td>\n",
       "      <td>PLb62x91woEVOzuZjzhsJTsU9fDV3fO3O8</td>\n",
       "    </tr>\n",
       "    <tr>\n",
       "      <th>3</th>\n",
       "      <td>3</td>\n",
       "      <td>I Ran Away From Home It Was Terrifying</td>\n",
       "      <td>★ DO YOU WANT TO GET YOUR STORY ANIMATED And F...</td>\n",
       "      <td>My Story Animated</td>\n",
       "      <td>4OdmJPGG7f0</td>\n",
       "      <td>PLb62x91woEVOzuZjzhsJTsU9fDV3fO3O8</td>\n",
       "    </tr>\n",
       "    <tr>\n",
       "      <th>4</th>\n",
       "      <td>4</td>\n",
       "      <td>My Heart Is Broken Forever Because Of My Mother</td>\n",
       "      <td>I Hated My Mother | My heart is broken forever...</td>\n",
       "      <td>My Story Animated</td>\n",
       "      <td>VjrzlEt_uuU</td>\n",
       "      <td>PLb62x91woEVOzuZjzhsJTsU9fDV3fO3O8</td>\n",
       "    </tr>\n",
       "    <tr>\n",
       "      <th>...</th>\n",
       "      <td>...</td>\n",
       "      <td>...</td>\n",
       "      <td>...</td>\n",
       "      <td>...</td>\n",
       "      <td>...</td>\n",
       "      <td>...</td>\n",
       "    </tr>\n",
       "    <tr>\n",
       "      <th>525</th>\n",
       "      <td>645</td>\n",
       "      <td>Crime Scene Cleanup Crew Members, What's Your ...</td>\n",
       "      <td>► Crime Scene Cleanup Crew Members, What's You...</td>\n",
       "      <td>Reddit Reveals</td>\n",
       "      <td>ymRMOwLYATM</td>\n",
       "      <td>PLVtWx-uH8EaqZEYNV0e9jmoX0sfjhV8VP</td>\n",
       "    </tr>\n",
       "    <tr>\n",
       "      <th>526</th>\n",
       "      <td>646</td>\n",
       "      <td>What Happens In Real Life S*x That You Never S...</td>\n",
       "      <td>► What Happens In Real Life S*x That You Never...</td>\n",
       "      <td>Reddit Reveals</td>\n",
       "      <td>n39Af7Rt8-4</td>\n",
       "      <td>PLVtWx-uH8EaqZEYNV0e9jmoX0sfjhV8VP</td>\n",
       "    </tr>\n",
       "    <tr>\n",
       "      <th>527</th>\n",
       "      <td>647</td>\n",
       "      <td>Teachers Reveal Their Most NSFW Story From Sch...</td>\n",
       "      <td>► Teachers Reveal Their Most NSFW Story From S...</td>\n",
       "      <td>Reddit Reveals</td>\n",
       "      <td>HgJtIHp2ySk</td>\n",
       "      <td>PLVtWx-uH8EaqZEYNV0e9jmoX0sfjhV8VP</td>\n",
       "    </tr>\n",
       "    <tr>\n",
       "      <th>528</th>\n",
       "      <td>648</td>\n",
       "      <td>What Are Some “Girl Secrets” Guys Don’t Know A...</td>\n",
       "      <td>► What Are Some “Girl Secrets” Guys Don’t Know...</td>\n",
       "      <td>Reddit Reveals</td>\n",
       "      <td>VjZSuG45fn0</td>\n",
       "      <td>PLVtWx-uH8EaqZEYNV0e9jmoX0sfjhV8VP</td>\n",
       "    </tr>\n",
       "    <tr>\n",
       "      <th>529</th>\n",
       "      <td>649</td>\n",
       "      <td>What Dark Family Secret Have You Uncovered? (r...</td>\n",
       "      <td>► What Dark Family Secret Have You Uncovered? ...</td>\n",
       "      <td>Reddit Reveals</td>\n",
       "      <td>Tv-KGALsZxA</td>\n",
       "      <td>PLVtWx-uH8EaqZEYNV0e9jmoX0sfjhV8VP</td>\n",
       "    </tr>\n",
       "  </tbody>\n",
       "</table>\n",
       "<p>530 rows × 6 columns</p>\n",
       "</div>"
      ],
      "text/plain": [
       "     index                                              title  \\\n",
       "0        0  I Regret Cheating On My Boyfriend But He Wont ...   \n",
       "1        1        I Stopped Eating For 2 Weeks To Get Thinner   \n",
       "2        2    I Cant Stop Stealing From My Friends And Family   \n",
       "3        3             I Ran Away From Home It Was Terrifying   \n",
       "4        4    My Heart Is Broken Forever Because Of My Mother   \n",
       "..     ...                                                ...   \n",
       "525    645  Crime Scene Cleanup Crew Members, What's Your ...   \n",
       "526    646  What Happens In Real Life S*x That You Never S...   \n",
       "527    647  Teachers Reveal Their Most NSFW Story From Sch...   \n",
       "528    648  What Are Some “Girl Secrets” Guys Don’t Know A...   \n",
       "529    649  What Dark Family Secret Have You Uncovered? (r...   \n",
       "\n",
       "                                           description          channelid  \\\n",
       "0    ★ DO YOU WANT TO GET YOUR STORY ANIMATED And F...  My Story Animated   \n",
       "1    ★ DO YOU WANT TO GET YOUR STORY ANIMATED And F...  My Story Animated   \n",
       "2    ★ DO YOU WANT TO GET YOUR STORY ANIMATED And F...  My Story Animated   \n",
       "3    ★ DO YOU WANT TO GET YOUR STORY ANIMATED And F...  My Story Animated   \n",
       "4    I Hated My Mother | My heart is broken forever...  My Story Animated   \n",
       "..                                                 ...                ...   \n",
       "525  ► Crime Scene Cleanup Crew Members, What's You...     Reddit Reveals   \n",
       "526  ► What Happens In Real Life S*x That You Never...     Reddit Reveals   \n",
       "527  ► Teachers Reveal Their Most NSFW Story From S...     Reddit Reveals   \n",
       "528  ► What Are Some “Girl Secrets” Guys Don’t Know...     Reddit Reveals   \n",
       "529  ► What Dark Family Secret Have You Uncovered? ...     Reddit Reveals   \n",
       "\n",
       "        videoids                         playlist_id  \n",
       "0    m_xT1dmGEA4  PLb62x91woEVOzuZjzhsJTsU9fDV3fO3O8  \n",
       "1    znvv0qk7a-A  PLb62x91woEVOzuZjzhsJTsU9fDV3fO3O8  \n",
       "2    AkDbnUu0uw4  PLb62x91woEVOzuZjzhsJTsU9fDV3fO3O8  \n",
       "3    4OdmJPGG7f0  PLb62x91woEVOzuZjzhsJTsU9fDV3fO3O8  \n",
       "4    VjrzlEt_uuU  PLb62x91woEVOzuZjzhsJTsU9fDV3fO3O8  \n",
       "..           ...                                 ...  \n",
       "525  ymRMOwLYATM  PLVtWx-uH8EaqZEYNV0e9jmoX0sfjhV8VP  \n",
       "526  n39Af7Rt8-4  PLVtWx-uH8EaqZEYNV0e9jmoX0sfjhV8VP  \n",
       "527  HgJtIHp2ySk  PLVtWx-uH8EaqZEYNV0e9jmoX0sfjhV8VP  \n",
       "528  VjZSuG45fn0  PLVtWx-uH8EaqZEYNV0e9jmoX0sfjhV8VP  \n",
       "529  Tv-KGALsZxA  PLVtWx-uH8EaqZEYNV0e9jmoX0sfjhV8VP  \n",
       "\n",
       "[530 rows x 6 columns]"
      ]
     },
     "execution_count": 10,
     "metadata": {},
     "output_type": "execute_result"
    }
   ],
   "source": [
    "video_df.drop(video_df[video_df['title']=='Private video'].index,inplace=True)  \n",
    "\n",
    "video_df = video_df.reset_index()\n",
    "\n",
    "video_df\n",
    "\n"
   ]
  },
  {
   "cell_type": "code",
   "execution_count": 11,
   "metadata": {},
   "outputs": [
    {
     "data": {
      "text/plain": [
       "\" I Regret Cheating On My Boyfriend But He Wont Forgive Me \\n I Stopped Eating For 2 Weeks To Get Thinner \\n I Cant Stop Stealing From My Friends And Family \\n I Ran Away From Home It Was Terrifying \\n My Heart Is Broken Forever Because Of My Mother \\n I Dyed my Hair Blond and Something Crazy Happened \\n I Am A Very Famous PopStar, But I Feel Like A Loser \\n I Am The Richest Girl At School And It's Embarrassing \\n My Mom is Mentally ILL \\n My Vacation Abroad Turned Into Hell \\n I Became An Instagram Star Overnight \\n Truth or Dare Almost Ruined My Life \\n I Love My Best Friend's Boyfriend \\n The Price I Made my Ex-boyfriend Pay \\n I Found a Way to be Cool \\n My Mom Wants Me to Get Plastic Surgery \\n I Stole My Dad's Computer And I Was Not Ready For What I Saw \\n 4 Emotional Videos You Must Watch \\n I Envy My Crazy Pretty Stepmom \\n I Ate My Rabbit \\n I Envy My Extremely Rich Step-Sister \\n I Found a Thief In My Room And I Outsmarted Him \\n My Mom Humiliated My Black Boyfriend But Dad... \\n My Mom Is Too pretty! \\n My Life as Cinderella! \\n My Dad Thinks I Am A Loser So I Changed His Life \\n My Mom Sent Me A Message That Was Meant For Someone Else \\n Being Pretty Is Boring \\n My Dad Came Out At The Worst Possible Moment \\n I Was Not Ready For What My Boyfriend Said About My Sister \\n I Stutter But My Teacher Forced Me To Sing In Front Of Everyone \\n Face Mask Gone Wrong \\n I Was Too Innocent When I Got Into The Top Secret Vampire society \\n I Reported My Step-Mom To The Police, My Revenge Revealed The Truth \\n Mom Used Me To Revenge My Dad \\n I Chose Dad When My Parents Divorced But I Had No Idea He’s The Devil \\n My Girlfriend Is A Gold Digger \\n I Wish I Didn’t Find My Mom Secret Door \\n My test tore our family apart \\n I Am Going To Show My Crush This Video About Me \\n My Boyfriend Left Me When He Saw My Twin Sister \\n I'm So Popular \\n My Boyfriend saw My Stepmom with somone esle \\n I Found A Scary Doll Under My Bed Twice But My Parents Wont Move \\n My Boyfriend Is Gay And I Am Ok With It \\n My Mom Starves Me \\n I Caught My Dad Wearing Women Clothes \\n I Told The Truth To the Wrong Person And It Ruined My Life \\n I Found A Treasure In My Second Hand jacket \\n Its Not My Fault That My Step-mom Is So Cool 😎 \\n My Little Sister Had Hers And I Still Didn't Get Mine \\n She Faked Having Cancer To Be With Me \\n I Opened My Brother's Bag And I Wasn't Ready For What I Found \\n My Best Friend Is Dating My Crush And I Am So jealous \\n I faked being pregnant to make my parents happy \\n I Am Scared To Invite Friends To My House They Will Know My Secret \\n i get a+ in all my grades without studying \\n I was obsessed with our neighbors Ferrari so I stole it \\n My mom loved her cat more than me so I had to play dirty \\n I pranked the wrong guy and it came back to haunt me \\n My Pictures Got Leaked \\n 14 Animation Examples That applicants made when they applied for a job \\n My Love Was A Man But I Had No Idea, I Feel So Violated \\n My Crush Told Me Something That I Will Never Forget \\n I Had The Same Dream 5 Nights in a row Until... \\n My Crush saw Me stealing \\n i like him also \\n My Girl Is A Gold Digger Part 2 \\n I Discovered I have One Week Left And I Kept It A Secret \\n I Went From Being The Prettiest Girl To An Ugly Bald One \\n My Bf Is strange \\n I Heard My Parents Saying I'm Not Going To Live Long \\n I Thought My Face Was Ugly Until A Famous Photographer Saw Me \\n I Tried Everything To Make My Older Sister Like Me \\n I Stole My Hacker’s Phone \\n I thought i was going to die so i started screaming and fainted in school \\n My Parents Became Psychopaths The Day My Brother Was Born \\n I am a bodybuilder and my boyfriend is a tiny little guy \\n I made what my horoscope said daily and this what happened \\n My Dead Mother Kept Sending Me Signs Until I Understood what she Wants \\n I Ditched My Dad For My Biological Celebrity Father \\n I Had No Idea My Dad Is Dangerous \\n My Mom Keeps Robbing My Friends And Family \\n my dad refuses to call me his son \\n After 20 Years I Met My Daughter \\n My Friends Found Out whats My Dad Job is \\n I Stole All My Parents Money \\n My Mom Left Me While I Was Struggling To Stay Alive \\n She Found Out \\n Everyone is Disgusted Until They Found Out Why \\n I Wish That My Sister Was Never Born \\n My Dad Was Hit By A Car And I Was Very Happy \\n I Couldn’t Save My Grandma From My Evil Mother So I Become Evil Too \\n My Shameful Act Got Caught On A Hidden Camera \\n My Shameful Act Got Caught On A Hidden Camera \\n My Children Wished Me Goodnight And Never Saw Me Again \\n I Found Papers In My Dad Office That Broke My Heart \\n I forced my mother to give me her kidney but she gave me everything \\n I Distracted Mom While Driving And The Worst Thing Happened \\n My Experience At Jail As A 16 Year Old \\n I Found Out That My Sister Is My Mother \\n My Dad Has Three Wives But He Wants Five \\n I Found My Missing Sister In A Graveyard \\n I Was Afraid Of The Government So I Got A Baby To Save My Parents \\n My bf Is Obsessed With Obese Girls He Forced Me To be one \\n My Social Media Accounts Were Hacked And I Blame Mom For It \\n We almost lost everyone on the airplane because of a virus \\n My Best Friend bf Kissed Me \\n He Called 911 When He Found Out How I Make Money \\n I Realised I Wasn’t Trans After Transitioning \\n I Wish I Remained Blind And Never Got My Sight Back \\n I Was Shocked When I Found Out Why My Teacher is after Me \\n My Obsessed Neighbor Wants To Be My Mother! \\n My Father Forced Me To Switch 3 Schools Until He Confessed Why \\n The Doctors Forced Me To Save Only One Of My Twin Sisters \\n My sister destroyed my life and left me alone in a wheel chair \\n I have 3 different people living in my body! \\n Something Touched Me Under The Water, Then I Saw Blood! \\n My Parents Never Told Me who I am \\n My Parents Never Told Me who I am \\n My Parents Never Told Me who I am \\n I Showered My Mom With Stolen Cash To Keep Her Quiet \\n I Showered My Mom With Stolen Cash To Keep Her Quiet \\n I Showered My Mom With Stolen Cash To Keep Her Quiet \\n My Mom Committed A Crime After She Found Out About My Lover \\n I Thought Dad Will Tear Our Family Apart but it was mom who did \\n I Loved My Mom Until I found out the truth \\n I Found Out That Someone Knew My Parents Were Going To Die \\n I Didn't Sleep For 7 Days until i found out the truth \\n i found my friend things in my dad's car, whaaaattt? \\n I Wish I Never Met Justin Bieber \\n I Wish I Never Found My Mom's Darkest Secret, Sorry Mom I Had No Idea \\n I Had To Fake Seizures To Stop Mom From Cheating \\n My Brother Preferred Gucci Shoes Over Saving Our Sick Dad \\n I Was Shocked To Know Who Leaked My Private Video \\n I Did Something Wrong To My Body! my crush liked it \\n I Live In An Orphanage Even Though I Have A Family \\n My Boyfriend Blackmailed Me With A Secret Tape \\n Mom started dating after the divorce \\n Everyone Found out who my dad is \\n I Suddenly Started Hearing Voices In My Head, They Got Worse And Worse \\n I Wish I Never Won 200 million dollars in the lottery \\n I Was Stuck At 2 in the night In A Strangers Cabin In The Woods! \\n I Hated My Daughter Until I Found Out The Truth \\n I Am Too Pretty \\n My 3 Years Old Sister Is Mute And I Cant Tell People Its Because Of Me \\n I am going to kidnap my grandma \\n I have been in a coma for years, i could hear everything \\n I Had To Stop The Kardashians From Destroying My Family \\n my grandma is an instagram star \\n I Was Treated Terribly After I Decided Not To Have A Baby \\n I Was Abused By My Boyfriend At 15 \\n An Eating Disorder Took Over My Life \\n My Boyfriend Got Me Pregnant And Left Me Two Days Before Prom \\n I Survived A School Shooting And It Affected Me For Life \\n My Classmate Sexually Harasses Me, School Doesn’t Do Anything \\n My Biology Teacher Told Me My Parents Can’t Be Mine \\n My Mom Sent Dirty Texts To My Boyfriend \\n I Became A Millionaire & Left My Wife Without A Penny \\n I’m Shaking After What Dad Did To Me At 16 \\n I Got Divorced Because Of My Husband’s Little Secret \\n I Tattooed My Private Parts (it only got worse) \\n I’m Addicted To Cheating On My Boyfriends \\n People Kept Rejecting Me, But Then I Became A Superstar \\n I Became Rich At Age 16 After My Private Video Went Viral \\n I’m A Millionaire And My Bully Is Poor (I did that to him) \\n I Made $2.2 Million At Age 15 With A Simple Idea \\n I Married My Sister \\n I'm Allergic To Touch But My Crush Touched Me \\n I’m A Gold Digger At Age 19 (I married a 60-year-old millionaire) \\n I Read My Cheating Fiance’s Texts Instead Of My Vows On Wedding Day \\n I Caught My Dad Secretly Filming Me (he saw too much) | This is my story \\n Someone Secretly Filmed My Private Parts (the video went viral) | This is my story \\n My Boyfriend Thought My Twin Sister Is Me (he went too far) \\n I'm Shaking After What Dad Did To Me At Age 12 \\n I'm Still Shaking After What My Boss Did To Me At Age 18 | This is my story \\n I Was Born In Prison, But I Became A Millionaire At Age 18 | This is my story \\n My Girlfriend Doesn't Know I'm A Werewolf | This is my story \\n I Caught My Crush Secretly Filming Me (he saw too much) | This is my story \\n My Dad Pretended To Be My Boyfriend Online | This Is My Story \\n The Guy I Hated The Most Got Me Pregnant At Age 14 | This is my story \\n My Girlfriend Is My Babysitter (I’m 23 and wear diapers) | This is my story \\n I Gave Birth While Being In A Coma | This is my story \\n I Died A Year Ago (I'm a zombie now) | This is my story \\n I Died A Year Ago (I'm a zombie now) | This is my story \\n School Camera Secretly Filmed Me (they saw too much!) | This is my story \\n I’m Not Afraid Of Death (what is wrong with me?) | This is my story \\n I Got Pregnant At Age 13 (now I’m a grandma at 26) | This is my story \\n I Have A Rare Addiction At Age 17 (everyone found out) | This is my story \\n I Dated 8 Sugar Daddies To Survive (now I’m a millionaire) | This is my story \\n I Almost Did It With My Dad (and it ruined our family) | This is my story \\n I Caught My Boyfriend Kissing A Hot Woman (I hired her) | This is my story \\n I Went From Rich To Homeless And Pregnant At Age 14 | This is my story \\n I Was Abandoned For Marrying A Criminal At Age 18 | This is my story \\n Creepy Stalker Chased Me After Work (‘cause I’m too pretty) | This is my story \\n My Father Put Me In A Coma At Age 17 (I vaped too much) | This is my story \\n My Crush Snapped Me Living In A Bubble (the photos went viral) | This is my story \\n I Had Triplets At Age 15 (then police showed up) | This is my story \\n I Have The Worst Tattoo Ever (it was my BF's revenge) | This is my story \\n I Became A Monster After Plastic Surgery At Age 18 | This is my story \\n I Accidentally Became A Millionaire At Age 18 (I worked for a rich lady) | This is my story \\n I Found Out I Have 12 Siblings (one of them is my BFF) | This is my story \\n I Can Get Any Girl I Want (I’m the only boy at school) | This is my story \\n I Wasn’t Supposed To Look But I Still Did (now I can’t tell anyone) | This is my story \\n My Parents Hid A Dark Secret About Me For 14 Years | This is my story \\n I Was Awake During Plastic Surgery At Age 16 (I became a monster) | This is my story \\n I Had A Female Prisoner Living In My Basement (Don't Judge Me Before You Learn Her Secret) - Part 1 \\n I’m Addicted To Being Pregnant At Age 17 (I make money from that) | This is my story \\n I Had A Female Prisoner Living In My Basement (Don't Judge Me Before You Learn Her Secret) - Part 2 \\n I Couldn’t Believe My Girlfriend Did This To Me (she has a disease) | This is my story \\n I Passed Out And Woke Up With A Husband And Kids At Age 19 | This is my story \\n I Slept With My Crush And Nearly Ended His Life | This is my story \\n I Slept With My Crush And Nearly Ended His Life | This is my story \\n I Was Hiding In My Boyfriend’s Closet For 4 Years | This is my story \\n I Stalked My Girlfriend And Her Secrets Were More Than I Could Take | This is my story \\n I Found Out The Horrible Truth About My Life After 5 Years | This is my story \\n I'm Never Babysitting Again: The Worst Horror Story Became Real For Me (the police witnessed it) \\n I’m Still Shaking After My Dirty Relationship With A Cult Leader | This is my story \\n What I Did In My Boyfriend's Bedroom Went Online (it backfired) | This is my story \\n I Transformed Into A Vampire At Age 12 | This is my story \\n My Mom Dates My Ex-Boyfriends, But I Didn’t Expect THIS | This is my story \\n My Mom Dates My Ex-Boyfriends, But I Didn’t Expect THIS | This is my story \\n I Fell In Love With A Cop And It Really Backfired (I was the next on his list) | This is my story \\n Everyone Found Out What My Crush And I Did In A Haunted House - Part 1 | This is my story \\n Everyone Found Out What My Crush And I Did In A Haunted House - Part 2 | This is my story \\n I’m Turning Into A Lobster (I have a rare disease) | This is my story \\n I Got Revenge On My Mom By Marrying A Zombie Doll | This is my story \\n My Dead Friend Sent Me A Terrifying Video | This is my story \\n My Dirty Revenge On My Boyfriend Went SO WRONG | This is my story \\n My BF Did The Most Horrible Thing During The Lockdown (I thought I’d die) | This is my story \\n I Was Dating My Cousin For 5 Months Without Knowing It & 3 Other Worst Dating Disasters \\n I Wanted To Look Like An Anime Girl But Everything Went Wrong | This is my story \\n I Post Gossip About The Most Popular Girl At School (I destroyed her life) | This is my story \\n Doctors Couldn‘t Decide What My Gender Was (my parents lied to me for years) | This is my story \\n Doctors Couldn‘t Decide What My Gender Was (my parents lied to me for years) | This is my story \\n I Wanted To Escape School So Badly, I Blinded Myself | This is my story \\n I Wanted To Escape School So Badly, I Blinded Myself | This is my story \\n I Wanted To Escape School So Badly, I Blinded Myself | This is my story \\n My Mom Was Always Locking Her Room - I Found Out Her Secret | This is my story \\n 6 Worst One-Night Stand Fails (get ready to cringe) \\n Somebody Was Secretly Living In My House And Leaving Mysterious Packages | This is my story \\n I Was Punished For Being Gay In The Most Horrible Way | This is my story \\n I Was Haunted By A Ghost For 5 Years (what does he want?) | This is my story \\n I Was Haunted By A Ghost For 5 Years (what does he want?) | This is my story \\n My Friends Used My Weird Condition In The Worst Way Possible (I ended up in the hospital) \\n I’m Gay And I Was Born Into A Homophobic Family - My Life Is A Nightmare | This is my story \\n I’m Gay And I Was Born Into A Homophobic Family - My Life Is A Nightmare | This is my story \\n I Haven’t Left My House In 10 Years - There Is A Horrible Reason | This is my story \\n I Did What I Thought I Never Would Because Of Quarantine (my savings ended and..) | This is my story \\n I Became A Millionaire And Hid It From My Poor Family | This is my story \\n From Being The Ugly Duckling At School To Having All Of My Enemies Sucking Up To Me \\n [ Part 1 ] A Hot Model Came To Our Art Class And Stirred Everything Up! Including My Love Life \\n My BFF and I have done something to our friend’s fiancé - and we aren't proud of it! \\n My BF’s Ex And I Tried To Win Over Each Other’s BF For A Bet \\n I secretly wrote my BFF’s boyfriend love letters – then the truth came out!! \\n I Lured My Neighbor Into My Plan To Have A Baby \\n Me And My Identical Twin Are Both Pregnant At 16 With The Same Guy \\n I used my magic trick to save a girl – But I never expected that she'd play her trick on me too \\n I accidentally did a terrible thing with my student but now he says he loves my daughter \\n My half-sister flirted with my crush –  I exposed her but with an unexpected result \\n From loser to bad boy - I’ve played with her heart and now I have to live in regret \\n A gamer guy made my girl break up with me but I could never expect his real purpose \\n A strange man came to me and asked me to do an unbelievable thing \\n I have 4 different people living in my body \\n My boyfriend's twin brother pretended to be him and took advantage of me \\n Is my deceased patient’s ghost back to separate us? \\n My sister stole my diary and now I become her puppet \\n My mom stole my boyfriend using a dirty trick \\n I found out a secret that could make my frenemy steal my parents away from me - Part 1 \\n I was trapped in the men’s restroom and I enjoyed it in the end \\n My sister suddenly spoke after 12 years of being mute -  My family’s shocking secrets were revealed! \\n The money hidden under the secondhand armchair revealed a shocking secret that we hadn't expected \\n My Crush’s Girlfriend Made Me Break Up With My Boyfriend \\n My friend is an undercover cop \\n I dumped the school principal’s son and received an unexpected ending \\n My dream wedding was cursed \\n I gave my boyfriend another girlfriend \\n My twin sister wants to ruin my life, my love and my happiness \\n My Sister Can Freely Date Our Uncle After Finding Out My Family’s Secret! \\n The Red Stains Led Me To My BF’s Dark Secret \\n I Love Her, She Loves Him, But Then Everything Turns Upside Down! \\n My Mom Loves My Uncle And Put My Dad In Jail \\n If I Wasn’t Blind I Wouldn’t Be Able To See This \\n If I Wasn’t Blind I Wouldn’t Be Able To See This \\n Their Cruel Actions Led Me To Find The Perfect Man \\n Their Cruel Actions Led Me To Find The Perfect Man \\n I get a thrill from pain! - My Big Secret \\n I Just Wanted To Be Cool But… \\n Let’s Get Married If We’re Still Single at 30 \\n We got SURGERY to LOOK LIKE TWINS | share my story | short stories \\n From Being The Ugly Duckling At School To Having All Of My Enemies Sucking Up To Me \\n [ Part 1 ] A Hot Model Came To Our Art Class And Stirred Everything Up! Including My Love Life \\n My BFF and I have done something to our friend’s fiancé - and we aren't proud of it! \\n My BF’s Ex And I Tried To Win Over Each Other’s BF For A Bet \\n I secretly wrote my BFF’s boyfriend love letters – then the truth came out!! \\n I Lured My Neighbor Into My Plan To Have A Baby \\n Me And My Identical Twin Are Both Pregnant At 16 With The Same Guy \\n I used my magic trick to save a girl – But I never expected that she'd play her trick on me too \\n I accidentally did a terrible thing with my student but now he says he loves my daughter \\n My half-sister flirted with my crush –  I exposed her but with an unexpected result \\n From loser to bad boy - I’ve played with her heart and now I have to live in regret \\n A gamer guy made my girl break up with me but I could never expect his real purpose \\n A strange man came to me and asked me to do an unbelievable thing \\n I have 4 different people living in my body \\n My boyfriend's twin brother pretended to be him and took advantage of me \\n Is my deceased patient’s ghost back to separate us? \\n My sister stole my diary and now I become her puppet \\n My mom stole my boyfriend using a dirty trick \\n I found out a secret that could make my frenemy steal my parents away from me - Part 1 \\n I was trapped in the men’s restroom and I enjoyed it in the end \\n My sister suddenly spoke after 12 years of being mute -  My family’s shocking secrets were revealed! \\n The money hidden under the secondhand armchair revealed a shocking secret that we hadn't expected \\n My Crush’s Girlfriend Made Me Break Up With My Boyfriend \\n My friend is an undercover cop \\n I dumped the school principal’s son and received an unexpected ending \\n My dream wedding was cursed \\n I gave my boyfriend another girlfriend \\n My twin sister wants to ruin my life, my love and my happiness \\n My Sister Can Freely Date Our Uncle After Finding Out My Family’s Secret! \\n The Red Stains Led Me To My BF’s Dark Secret \\n I Love Her, She Loves Him, But Then Everything Turns Upside Down! \\n My Mom Loves My Uncle And Put My Dad In Jail \\n If I Wasn’t Blind I Wouldn’t Be Able To See This \\n If I Wasn’t Blind I Wouldn’t Be Able To See This \\n Their Cruel Actions Led Me To Find The Perfect Man \\n Their Cruel Actions Led Me To Find The Perfect Man \\n I get a thrill from pain! - My Big Secret \\n I Just Wanted To Be Cool But… \\n Let’s Get Married If We’re Still Single at 30 \\n We got SURGERY to LOOK LIKE TWINS | share my story | short stories \\n How Did A Few Second Change Your Life? (Reddit Stories) \\n What's The Story Behind Your Scar? (Reddit Stories) \\n What's The Worst Thing You Saw At School? (Reddit Stories) \\n What's The Most Interesting History Fact You Know? (Reddit Stories) \\n People Who Slept With A Step Relative, What Happened? (Reddit Stories) \\n What's The Worst Thing That Happened At Your School? (Reddit Stories) \\n What's The Worst Encounter You Had With A Celebrity? (Reddit Stories) \\n What Was The Best Experience You Had In Bed? (Reddit Stories) \\n People Who Cheated, Why Didn't You Break Up? (Reddit Stories) \\n Teachers, What's The Worst Thing You Confiscated Off A Student? (Reddit Stories) \\n What Was The Worst Thing Somebody Did At Your School? (Reddit Stories) \\n What's The Best Insult A Teacher Gave A Student? (Reddit Stories) \\n Lawyers, What Are Some Crazy Loopholes In The Law? (Reddit Stories) \\n What's The Worst Thing You Saw At A Bachelor Party? (Reddit Stories) \\n What Is The Biggest Lie You Are Keeping? \\n Disney Workers, What's The Strangest Thing You Have Seen? \\n Students, What's The Cringiest Thing A Teacher Has Done? \\n Did You Ever Meet A Celebrity And Pretend You Didn't Know Them? \\n Students, What's Your Best School Life-Hack? \\n Teachers, Have You Ever Made Friends With Ex Students? \\n What Screams 'I Have Rich Parents'? \\n Relatives Of Celebrities, What Is It Like? \\n Soldiers, What's The Craziest Thing That's Happened To You? \\n What Crazy Drama Is In Your Life Right Now? \\n Teachers, What Are Some Secrets That Go On At School? \\n What's The Worst Thing You've Seen At A Party? \\n Parents, What's The Funniest Reason You Were Called Into School? \\n What's The Most Awkward Situation You've Had With A Roommate? \\n What's The Most Horrifying History Fact You Know? \\n What Was Your High School's Scandal? \\n What Are Some Of Your Darkest Theories? \\n What's A Fact You Thought Was True But Is False? \\n What Was 'The Incident' At Your High School? \\n What's The Most NSFW Thing You Saw At A Bachelor Party? \\n Teachers, Who Is A Student You Will Never Forget? \\n What's Your 'Glitch In The Matrix' Story? \\n Doctors, What Are The Most Memorable Last Words You Heard? \\n Waiters, What's The Best Insult You Have Received From Rich Customers? \\n Teachers, What's The Worst Conference You Had With A Parent? \\n Security, What's The Weirdest Thing You Found In Someone's Bag? \\n Teachers, What's Your 'How Are My Students This Dumb' Moment? \\n Theme Park Workers, What's Your Horror Story? \\n What Was Your Worst Moment In High School? \\n What's The Dumbest Thing You Were Punished For At School? \\n What Was 'The Incident' At Your High School? \\n Cleaners, What's The Worst Thing You Found In A Hotel Room? \\n What's The Worst Thing You've Seen At A Party? \\n Teachers, What's The Most Awkward Position You've Been In? \\n Police, What's The Funniest Thing You Caught Kids Doing? \\n What's The Most Confusing Thing About Girls? \\n What's Your Craziest Bachelor Party Story? \\n What's The Most NSFW Thing You've Seen At A Party? \\n What Was The Craziest Thing That Happened At Your School? \\n What's The Worst Thing Your Parents Found On Your Computer? \\n What's The Funniest Reason Someone Was Expelled At Your School? \\n Escorts, Have You Ever Been Caught By The Clients Partner? \\n What's Are Some 'Cheat Codes' You've Found In Life? (r/AskReddit | Reddit Stories) \\n What Was Your 'Oh Sh*t' Moment As A Kid? (r/AskReddit | Reddit Stories) \\n What Black Market Was Going On At Your School? (r/AskReddit | Reddit Stories) \\n What's The Best Karma You Have Witnessed? (r/AskReddit | Reddit Stories) \\n Cashiers, What's The Worst Time You Blew Up On A Customer? (r/AskReddit | Reddit Stories) \\n What Started Off As A Small Lie Then Turned Into Your Life? (r/AskReddit | Reddit Stories) \\n What Fact Did You Learn Embarrassingly Late? (r/AskReddit | Reddit Stories) \\n What's The Most Legendary Thing That Happened At Your School? (r/AskReddit | Reddit Stories) \\n Girls, What's The Best Gift You've Been Given? (r/AskReddit | Reddit Stories) \\n When Did The Kid That Craved Attention Take It Too Far? (r/AskReddit | Reddit Stories) \\n How Did Your Friend Destroy The Friendship? (r/AskReddit | Reddit Stories) \\n Doctors, What's The Most Outrageous Self Diagnosis You've Heard? (r/AskReddit | Reddit Stories) \\n Girls, What's Your Cringey 'Nice Guy' Story? (r/AskReddit | Reddit Stories) \\n Tattoo Artists, What's The Worst Job You've Had? (r/AskReddit | Reddit Stories) \\n What Was The Worst Way You Got Revenge? (r/AskReddit | Reddit Stories) \\n What's The Biggest Double Standards In Men And Women? (r/AskReddit | Reddit Stories) \\n Cashiers, What Product Do You Judge People For Buying? (r/AskReddit | Reddit Stories) \\n What Industry Is Shadier Than People Realise? (r/AskReddit | Reddit Stories) \\n Doctors, What's Your 'How Did They Survive' Story? (r/AskReddit | Reddit Stories) \\n What Is Your Favourite 'Holy Sh*t' Fact? (r/AskReddit | Reddit Stories) \\n What's Your Relationship With The Person You Lost Your Virginity To? (r/AskReddit | Reddit Stories) \\n What Is Something That Really Freaks You Out? (r/AskReddit | Reddit Stories) \\n Parents, What Are Your Kids Trying To Hide From You? (r/AskReddit | Reddit Stories) \\n What Fact Sounds Fake But Is Actually Legit? (r/AskReddit | Reddit Stories) \\n What's The Most F*cked Up Online Troll You Did? (r/AskReddit | Reddit Stories) \\n Teachers, What Juicy Drama Is Going Around Your High School? (r/AskReddit | Reddit Stories) \\n People Who Were Held At Gunpoint, What Happened? (r/AskReddit | Reddit Stories) \\n Girls, What's The Worst Way A Man Flirted With You? (r/AskReddit | Reddit Stories) \\n What Industry Are You Glad We Are Killing? (r/AskReddit | Reddit Stories) \\n What's The Ultimate Petty Revenge You've Seen? (r/AskReddit | Reddit Stories) \\n Doctors, What's The Stupidest Patient You've Had? (r/AskReddit | Reddit Stories) \\n What's The Most NSFW Game Of Truth Or Dare You Played? (r/AskReddit | Reddit Stories) \\n What's A Dirty Business Tactic That Everyone Should Be Aware Of? (r/AskReddit | Reddit Stories) \\n What Illegal Thing Have You Done For A Good Reason? (r/AskReddit | Reddit Stories) \\n What's The Dumbest Thing Someone Got Offended By? (r/AskReddit | Reddit Stories) \\n What's The Best Kept Secret On The Internet? (r/AskReddit | Reddit Stories) \\n What's Your Most Insane Story? (r/AskReddit | Reddit Stories) \\n Hotel Workers, What's The Most NSFW Thing You've Seen? (r/AskReddit | Reddit Stories) \\n What's An Alarming Fact The Next Generation Have To Deal With? (r/AskReddit | Reddit Stories) \\n What Was 'The Incident' At Your High School? (r/AskReddit | Reddit Stories) \\n What's Your Worst 'Wingman' Moment? (r/AskReddit | Reddit Stories) \\n Truck Drivers, Have You Ever Been Scared When Parked At Night? (r/AskReddit | Reddit Stories) \\n Hotel Workers, What's Something You Can't Tell Us? (r/AskReddit | Reddit Stories) \\n What Job Do You Have That People Don't Know About? (r/AskReddit | Reddit Stories) \\n What True Fact Is So Baffling It Should Be False? (r/AskReddit | Reddit Stories) \\n Teachers, What's The Cringiest Thing A Student Said? (r/AskReddit | Reddit Stories) \\n What Is The Best Revenge You've Ever Gotten? (r/AskReddit | Reddit Stories) \\n Babysitters, What's The Weirdest Rule A Parent Gave You? (r/AskReddit | Reddit Stories) \\n What's The Most Outrageous Insurance Claim You've Seen? (r/AskReddit | Reddit Stories) \\n What's Your Best Story Of 'Petty Revenge'? (r/AskReddit | Reddit Stories) \\n What's The Most Awkward Thing You Saw At A School Reunion? (r/AskReddit | Reddit Stories) \\n Parents, How Did Your Kid's SO Win You Over? (r/AskReddit | Reddit Stories) \\n Divorce Lawyers, What's The Most Screwed You've Seen Someone? (r/AskReddit | Reddit Stories) \\n What Surprised You At Your 10 Year High School Reunion? (r/AskReddit | Reddit Stories) \\n What Experiments Do You Think The Government Are Doing? (r/AskReddit | Reddit Stories) \\n What's The Most Ridiculous Thing You've Seen At A Party? (r/AskReddit | Reddit Stories) \\n Chefs, What Red Flags Should You Look Our For In Restaurants? (r/AskReddit | Reddit Stories) \\n What's The Strangest Thing You Caught People Doing At School? (r/AskReddit | Reddit Stories) \\n Girls, What's Your 'Nice Girls Finish Last' Story? (r/AskReddit | Reddit Stories) \\n What's Something F*cked Up Everyone Does When Dating? (r/AskReddit | Reddit Stories) \\n Teachers, What's The Worst Thing That Happened On A School Trip? (r/AskReddit | Reddit Stories) \\n Girls Who Dated The 'Nice Guy', How Did It Go? (r/AskReddit | Reddit Stories) \\n People In A Criminal Family, When Did You Find Out? (r/AskReddit | Reddit Stories) \\n Teachers, What's The Biggest Student Meltdown You Saw? (r/AskReddit | Reddit Stories) \\n People Who Met A Celebrity, What Were They Like? (r/AskReddit | Reddit Stories) \\n Teachers, What Was The Best Student Drama You Heard? (r/AskReddit | Reddit Stories) \\n What Are Some Deeply Unsettling Facts? (r/AskReddit | Reddit Stories) \\n What's A Dirty Secret You Saw At A Bachelor Party? (r/AskReddit | Reddit Stories) \\n 911 Operators, What Was Your Most Disturbing Call? (r/AskReddit | Reddit Stories) \\n What's The Most Disturbing Secret You've Been Told? (r/AskReddit | Reddit Stories) \\n What's The Biggest Teacher Meltdown You Saw? (r/AskReddit | Reddit Stories) \\n Airline Workers, What Are Some Secrets Passengers Don't Know? (r/AskReddit | Reddit Stories) \\n When Did A Prank Go 'Too Far' At High School? (r/AskReddit | Reddit Stories) \\n What Is Your Cringiest High School Story? (r/AskReddit | Reddit Stories) \\n What Is One Thing Your SO Hid From You Until Later? (r/AskReddit | Reddit Stories) \\n Teachers, What's The Trashiest Thing You Saw A Parent Do? (r/AskReddit | Reddit Stories) \\n What's The Creepiest Thing That Ever Happened To You? (r/AskReddit | Reddit Stories) \\n What's A Commonly Known 'Fact' That Is Completely False? (r/AskReddit | Reddit Stories) \\n What's The Most NSFW Thing To Happen In Your Small Town? (r/AskReddit | Reddit Stories) \\n Uber Drivers, What's The Most F*cked Up Situation You've Been In? (r/AskReddit | Reddit Stories) \\n People Who Met A Former Crush, What Are They Like Now? (r/AskReddit | Reddit Stories) \\n Pilots, What's The Closest You've Come To A Disaster? (r/AskReddit | Reddit Stories) \\n What Is The Most Mind Boggling Fact You Know? (r/AskReddit | Reddit Stories) \\n What Conspiracy Theory Do You Believe To Be True? (r/AskReddit | Reddit Stories) \\n What Is The Most Interesting Dream You've Ever Had? (r/AskReddit | Reddit Stories) \\n Teachers, When Did Karma Finally Hit That One Student? (r/AskReddit | Reddit Stories) \\n What's The Worst Example Of 'Rich People Problems' You've Seen? (r/AskReddit | Reddit Stories) \\n What Is Your Worst 'You're On Speaker Phone' Story? (r/AskReddit | Reddit Stories) \\n What's The Worst Thing Someone Said To You During S*x (r/AskReddit | Reddit Stories) \\n What's Your Worst College Roommate Horror Story? (r/AskReddit | Reddit Stories) \\n What's Your Worst 'Neighbour From Hell' Story? (r/AskReddit | Reddit Stories) \\n What Were The Biggest 'F*ck You' From Companies? (r/AskReddit | Reddit Stories) \\n What's The Most Obscene Display Of Private Wealth You've Seen? (r/AskReddit | Reddit Stories) \\n People Dating A Twin, What's It Like? (r/AskReddit | Reddit Stories) \\n What Conspiracy Theory Makes Too Much Sense To Ignore? (r/AskReddit | Reddit Stories) \\n What Are Some Super Interesting Serial Killer Facts? (r/AskReddit | Reddit Stories) \\n Bar Staff, How Often Do Men Use The 'Safeword Drink'? (r/AskReddit | Reddit Stories) \\n What Is The Most Underrated Thing About Being In A Relationship? (r/AskReddit | Reddit Stories) \\n What Screams 'I Peaked In High School' (r/AskReddit | Reddit Stories) \\n What's The Creepiest Top Secret Leaked Document? (r/AskReddit | Reddit Stories) \\n Baby Sitters, What's Your Most NSFW Incident? (r/AskReddit | Reddit Stories) \\n What's The Ugliest Thing You've Heard An Attractive Person Say? (r/AskReddit | Reddit Stories) \\n Disney Park Employees, What's The Craziest Thing You Have Seen? (r/AskReddit | Reddit Stories) \\n People Who Have Been Fired On The Spot, What Happened? (r/AskReddit | Reddit Stories) \\n What Secrets Are In Your Profession That We Don't Know? (r/AskReddit | Reddit Stories) \\n People Who Went To School With A Celebrity, What Were They Like? (r/AskReddit | Reddit Stories) \\n What Are Some Unethical Life Hacks You Use? (r/AskReddit | Reddit Stories) \\n What's The Creepiest 'Glitch In The Matrix' You Have Seen? (r/AskReddit | Reddit Stories) \\n What's Your Funniest Experience Of Petty Revenge? (r/AskReddit | Reddit Stories) \\n Fisherman, What's Your Creepiest Story From Out At Sea? (r/AskReddit | Reddit Stories) \\n What Mild Inconvenience Drives You Crazy? (r/AskReddit | Reddit Stories) \\n What's The Darkest Secret In Your Small Town? (r/AskReddit | Reddit Stories) \\n People Who Slept With Their Boss For A Raise, What's Your Story? (r/AskReddit | Reddit Stories) \\n Divorce Lawyers, What's The Worst Reason Someone Filed For Divorce? (r/AskReddit | Reddit Stories) \\n How Did Your Friend Destroy The Friendship? (r/AskReddit | Reddit Stories) \\n What's The Craziest Thing You've Seen At Work? (r/AskReddit | Reddit Stories) \\n What's Your 'Meeting My Online Friend' Horror Story? (r/AskReddit | Reddit Stories) \\n Cops, What Strange Laws Does Your Town Have? (r/AskReddit | Reddit Stories) \\n What's A Dealbreaker No Matter How Attractive They Are? (r/AskReddit | Reddit Stories) \\n Why Did That 'One Teacher' Get Fired From Your School? (r/AskReddit | Reddit Stories) \\n What Was 'The Scandal' At Your High School? (r/AskReddit | Reddit Stories) \\n What Was The Dirtiest Trick Ever Pulled In War? (r/AskReddit | Reddit Stories) \\n What Was The Cringiest Thing You Did In Your First Relationship? (r/AskReddit | Reddit Stories) \\n Girls, What's The Worst Thing Someone Has Said When Flirting? (r/AskReddit | Reddit Stories) \\n Soldiers Reveal Secrets The Military Don't Tell You! (r/AskReddit | Reddit Stories) \\n What Is The Most Paranormal Event You Have Witnessed? (r/AskReddit | Reddit Stories) \\n Teachers, What's The Juiciest Gossip You've Heard? (r/AskReddit | Reddit Stories) \\n What Is The Greatest Comeback You Have Heard? (r/AskReddit | Reddit Stories) \\n People Share Their Favourite Creepy Fact! (r/AskReddit | Reddit Stories) \\n What Do You Envy About The Opposite Gender? (r/AskReddit | Reddit Stories) \\n Parents Share Why They Disowned Their Children (r/AskReddit | Reddit Stories) \\n What Did A Crush Do That Killed Your Interest? (r/AskReddit | Reddit Stories) \\n Surgeons Reveal Their 'OH SH*T' Moment (r/AskReddit | Reddit Stories) \\n What Turns You On Almost Instantly? (r/AskReddit | Reddit Stories) \\n What Surprised You About S*x After Your First Time? (r/AskReddit | Reddit Stories) \\n What Secret Are You Keeping Right Now? (r/AskReddit | Reddit Stories) \\n What Was The Weirdest Thing Someone Asked You To Do During S*x? (r/AskReddit | Reddit Stories) \\n What Is Your NSFW Secret That You Are Proud Of? (r/AskReddit | Reddit Stories) \\n What's The Best Thing That Happened To You In Truth Or Dare? (r/AskReddit | Reddit Stories) \\n Crime Scene Cleanup Crew Members, What's Your Most Disturbing Story? (r/AskReddit | Reddit Stories) \\n What Happens In Real Life S*x That You Never See In P*rn? (r/AskReddit | Reddit Stories) \\n Teachers Reveal Their Most NSFW Story From School! (r/AskReddit | Reddit Stories) \\n What Are Some “Girl Secrets” Guys Don’t Know About? (r/AskReddit | Reddit Stories) \\n \""
      ]
     },
     "execution_count": 11,
     "metadata": {},
     "output_type": "execute_result"
    }
   ],
   "source": [
    "Complete=' '\n",
    "i=0\n",
    "while i<529:\n",
    "    Complete +=  video_df['title'][i]+ \" \\n \" \n",
    "    i+=1\n",
    "    \n",
    "Complete\n",
    "    \n"
   ]
  },
  {
   "cell_type": "code",
   "execution_count": 16,
   "metadata": {},
   "outputs": [
    {
     "data": {
      "text/plain": [
       "\" I Regret Cheating On My Boyfriend But He Wont Forgive Me \\n I Stopped Eating For 2 Weeks To Get Thinner \\n I Cant Stop Stealing From My Friends And Family \\n I Ran Away From Home It Was Terrifying \\n My Heart Is Broken Forever Because Of My Mother \\n I Dyed my Hair Blond and Something Crazy Happened \\n I Am A Very Famous PopStar, But I Feel Like A Loser \\n I Am The Richest Girl At School And It's Embarrassing \\n My Mom is Mentally ILL \\n My Vacation Abroad Turned Into Hell \\n I Became An Instagram Star Overnight \\n Truth or Dare Almost Ruined My Life \\n I Love My Best Friend's Boyfriend \\n The Price I Made my Ex-boyfriend Pay \\n I Found a Way to be Cool \\n My Mom Wants Me to Get Plastic Surgery \\n I Stole My Dad's Computer And I Was Not Ready For What I Saw \\n 4 Emotional Videos You Must Watch \\n I Envy My Crazy Pretty Stepmom \\n I Ate My Rabbit \\n I Envy My Extremely Rich Step-Sister \\n I Found a Thief In My Room And I Outsmarted Him \\n My Mom Humiliated My Black Boyfriend But Dad... \\n My Mom Is Too pretty! \\n My Life as Cinderella! \\n My Dad Thinks I Am A Loser So I Changed His Life \\n My Mom Sent Me A Message That Was Meant For Someone Else \\n Being Pretty Is Boring \\n My Dad Came Out At The Worst Possible Moment \\n I Was Not Ready For What My Boyfriend Said About My Sister \\n I Stutter But My Teacher Forced Me To Sing In Front Of Everyone \\n Face Mask Gone Wrong \\n I Was Too Innocent When I Got Into The Top Secret Vampire society \\n I Reported My Step-Mom To The Police, My Revenge Revealed The Truth \\n Mom Used Me To Revenge My Dad \\n I Chose Dad When My Parents Divorced But I Had No Idea He’s The Devil \\n My Girlfriend Is A Gold Digger \\n I Wish I Didn’t Find My Mom Secret Door \\n My test tore our family apart \\n I Am Going To Show My Crush This Video About Me \\n My Boyfriend Left Me When He Saw My Twin Sister \\n I'm So Popular \\n My Boyfriend saw My Stepmom with somone esle \\n I Found A Scary Doll Under My Bed Twice But My Parents Wont Move \\n My Boyfriend Is Gay And I Am Ok With It \\n My Mom Starves Me \\n I Caught My Dad Wearing Women Clothes \\n I Told The Truth To the Wrong Person And It Ruined My Life \\n I Found A Treasure In My Second Hand jacket \\n Its Not My Fault That My Step-mom Is So Cool e \\n My Little Sister Had Hers And I Still Didn't Get Mine \\n She Faked Having Cancer To Be With Me \\n I Opened My Brother's Bag And I Wasn't Ready For What I Found \\n My Best Friend Is Dating My Crush And I Am So jealous \\n I faked being pregnant to make my parents happy \\n I Am Scared To Invite Friends To My House They Will Know My Secret \\n i get a+ in all my grades without studying \\n I was obsessed with our neighbors Ferrari so I stole it \\n My mom loved her cat more than me so I had to play dirty \\n I pranked the wrong guy and it came back to haunt me \\n My Pictures Got Leaked \\n 14 Animation Examples That applicants made when they applied for a job \\n My Love Was A Man But I Had No Idea, I Feel So Violated \\n My Crush Told Me Something That I Will Never Forget \\n I Had The Same Dream 5 Nights in a row Until... \\n My Crush saw Me stealing \\n i like him also \\n My Girl Is A Gold Digger Part 2 \\n I Discovered I have One Week Left And I Kept It A Secret \\n I Went From Being The Prettiest Girl To An Ugly Bald One \\n My Bf Is strange \\n I Heard My Parents Saying I'm Not Going To Live Long \\n I Thought My Face Was Ugly Until A Famous Photographer Saw Me \\n I Tried Everything To Make My Older Sister Like Me \\n I Stole My Hacker’s Phone \\n I thought i was going to die so i started screaming and fainted in school \\n My Parents Became Psychopaths The Day My Brother Was Born \\n I am a bodybuilder and my boyfriend is a tiny little guy \\n I made what my horoscope said daily and this what happened \\n My Dead Mother Kept Sending Me Signs Until I Understood what she Wants \\n I Ditched My Dad For My Biological Celebrity Father \\n I Had No Idea My Dad Is Dangerous \\n My Mom Keeps Robbing My Friends And Family \\n my dad refuses to call me his son \\n After 20 Years I Met My Daughter \\n My Friends Found Out whats My Dad Job is \\n I Stole All My Parents Money \\n My Mom Left Me While I Was Struggling To Stay Alive \\n She Found Out \\n Everyone is Disgusted Until They Found Out Why \\n I Wish That My Sister Was Never Born \\n My Dad Was Hit By A Car And I Was Very Happy \\n I Couldn’t Save My Grandma From My Evil Mother So I Become Evil Too \\n My Shameful Act Got Caught On A Hidden Camera \\n My Shameful Act Got Caught On A Hidden Camera \\n My Children Wished Me Goodnight And Never Saw Me Again \\n I Found Papers In My Dad Office That Broke My Heart \\n I forced my mother to give me her kidney but she gave me everything \\n I Distracted Mom While Driving And The Worst Thing Happened \\n My Experience At Jail As A 16 Year Old \\n I Found Out That My Sister Is My Mother \\n My Dad Has Three Wives But He Wants Five \\n I Found My Missing Sister In A Graveyard \\n I Was Afraid Of The Government So I Got A Baby To Save My Parents \\n My bf Is Obsessed With Obese Girls He Forced Me To be one \\n My Social Media Accounts Were Hacked And I Blame Mom For It \\n We almost lost everyone on the airplane because of a virus \\n My Best Friend bf Kissed Me \\n He Called 911 When He Found Out How I Make Money \\n I Realised I Wasn’t Trans After Transitioning \\n I Wish I Remained Blind And Never Got My Sight Back \\n I Was Shocked When I Found Out Why My Teacher is after Me \\n My Obsessed Neighbor Wants To Be My Mother! \\n My Father Forced Me To Switch 3 Schools Until He Confessed Why \\n The Doctors Forced Me To Save Only One Of My Twin Sisters \\n My sister destroyed my life and left me alone in a wheel chair \\n I have 3 different people living in my body! \\n Something Touched Me Under The Water, Then I Saw Blood! \\n My Parents Never Told Me who I am \\n My Parents Never Told Me who I am \\n My Parents Never Told Me who I am \\n I Showered My Mom With Stolen Cash To Keep Her Quiet \\n I Showered My Mom With Stolen Cash To Keep Her Quiet \\n I Showered My Mom With Stolen Cash To Keep Her Quiet \\n My Mom Committed A Crime After She Found Out About My Lover \\n I Thought Dad Will Tear Our Family Apart but it was mom who did \\n I Loved My Mom Until I found out the truth \\n I Found Out That Someone Knew My Parents Were Going To Die \\n I Didn't Sleep For 7 Days until i found out the truth \\n i found my friend things in my dad's car, whaaaattt? \\n I Wish I Never Met Justin Bieber \\n I Wish I Never Found My Mom's Darkest Secret, Sorry Mom I Had No Idea \\n I Had To Fake Seizures To Stop Mom From Cheating \\n My Brother Preferred Gucci Shoes Over Saving Our Sick Dad \\n I Was Shocked To Know Who Leaked My Private Video \\n I Did Something Wrong To My Body! my crush liked it \\n I Live In An Orphanage Even Though I Have A Family \\n My Boyfriend Blackmailed Me With A Secret Tape \\n Mom started dating after the divorce \\n Everyone Found out who my dad is \\n I Suddenly Started Hearing Voices In My Head, They Got Worse And Worse \\n I Wish I Never Won 200 million dollars in the lottery \\n I Was Stuck At 2 in the night In A Strangers Cabin In The Woods! \\n I Hated My Daughter Until I Found Out The Truth \\n I Am Too Pretty \\n My 3 Years Old Sister Is Mute And I Cant Tell People Its Because Of Me \\n I am going to kidnap my grandma \\n I have been in a coma for years, i could hear everything \\n I Had To Stop The Kardashians From Destroying My Family \\n my grandma is an instagram star \\n I Was Treated Terribly After I Decided Not To Have A Baby \\n I Was Abused By My Boyfriend At 15 \\n An Eating Disorder Took Over My Life \\n My Boyfriend Got Me Pregnant And Left Me Two Days Before Prom \\n I Survived A School Shooting And It Affected Me For Life \\n My Classmate Sexually Harasses Me, School Doesn’t Do Anything \\n My Biology Teacher Told Me My Parents Can’t Be Mine \\n My Mom Sent Dirty Texts To My Boyfriend \\n I Became A Millionaire & Left My Wife Without A Penny \\n I’m Shaking After What Dad Did To Me At 16 \\n I Got Divorced Because Of My Husband’s Little Secret \\n I Tattooed My Private Parts (it only got worse) \\n I’m Addicted To Cheating On My Boyfriends \\n People Kept Rejecting Me, But Then I Became A Superstar \\n I Became Rich At Age 16 After My Private Video Went Viral \\n I’m A Millionaire And My Bully Is Poor (I did that to him) \\n I Made $2.2 Million At Age 15 With A Simple Idea \\n I Married My Sister \\n I'm Allergic To Touch But My Crush Touched Me \\n I’m A Gold Digger At Age 19 (I married a 60-year-old millionaire) \\n I Read My Cheating Fiance’s Texts Instead Of My Vows On Wedding Day \\n I Caught My Dad Secretly Filming Me (he saw too much)   \\n Someone Secretly Filmed My Private Parts (the video went viral)   \\n My Boyfriend Thought My Twin Sister Is Me (he went too far) \\n I'm Shaking After What Dad Did To Me At Age 12 \\n I'm Still Shaking After What My Boss Did To Me At Age 18   \\n I Was Born In Prison, But I Became A Millionaire At Age 18   \\n My Girlfriend Doesn't Know I'm A Werewolf   \\n I Caught My Crush Secretly Filming Me (he saw too much)   \\n My Dad Pretended To Be My Boyfriend Online | This Is My Story \\n The Guy I Hated The Most Got Me Pregnant At Age 14   \\n My Girlfriend Is My Babysitter (I’m 23 and wear diapers)   \\n I Gave Birth While Being In A Coma   \\n I Died A Year Ago (I'm a zombie now)   \\n I Died A Year Ago (I'm a zombie now)   \\n School Camera Secretly Filmed Me (they saw too much!)   \\n I’m Not Afraid Of Death (what is wrong with me?)   \\n I Got Pregnant At Age 13 (now I’m a grandma at 26)   \\n I Have A Rare Addiction At Age 17 (everyone found out)   \\n I Dated 8 Sugar Daddies To Survive (now I’m a millionaire)   \\n I Almost Did It With My Dad (and it ruined our family)   \\n I Caught My Boyfriend Kissing A Hot Woman (I hired her)   \\n I Went From Rich To Homeless And Pregnant At Age 14   \\n I Was Abandoned For Marrying A Criminal At Age 18   \\n Creepy Stalker Chased Me After Work (‘cause I’m too pretty)   \\n My Father Put Me In A Coma At Age 17 (I vaped too much)   \\n My Crush Snapped Me Living In A Bubble (the photos went viral)   \\n I Had Triplets At Age 15 (then police showed up)   \\n I Have The Worst Tattoo Ever (it was my BF's revenge)   \\n I Became A Monster After Plastic Surgery At Age 18   \\n I Accidentally Became A Millionaire At Age 18 (I worked for a rich lady)   \\n I Found Out I Have 12 Siblings (one of them is my BFF)   \\n I Can Get Any Girl I Want (I’m the only boy at school)   \\n I Wasn’t Supposed To Look But I Still Did (now I can’t tell anyone)   \\n My Parents Hid A Dark Secret About Me For 14 Years   \\n I Was Awake During Plastic Surgery At Age 16 (I became a monster)   \\n I Had A Female Prisoner Living In My Basement (Don't Judge Me Before You Learn Her Secret) - Part 1 \\n I’m Addicted To Being Pregnant At Age 17 (I make money from that)   \\n I Had A Female Prisoner Living In My Basement (Don't Judge Me Before You Learn Her Secret) - Part 2 \\n I Couldn’t Believe My Girlfriend Did This To Me (she has a disease)   \\n I Passed Out And Woke Up With A Husband And Kids At Age 19   \\n I Slept With My Crush And Nearly Ended His Life   \\n I Slept With My Crush And Nearly Ended His Life   \\n I Was Hiding In My Boyfriend’s Closet For 4 Years   \\n I Stalked My Girlfriend And Her Secrets Were More Than I Could Take   \\n I Found Out The Horrible Truth About My Life After 5 Years   \\n I'm Never Babysitting Again: The Worst Horror Story Became Real For Me (the police witnessed it) \\n I’m Still Shaking After My Dirty Relationship With A Cult Leader   \\n What I Did In My Boyfriend's Bedroom Went Online (it backfired)   \\n I Transformed Into A Vampire At Age 12   \\n My Mom Dates My Ex-Boyfriends, But I Didn’t Expect THIS   \\n My Mom Dates My Ex-Boyfriends, But I Didn’t Expect THIS   \\n I Fell In Love With A Cop And It Really Backfired (I was the next on his list)   \\n Everyone Found Out What My Crush And I Did In A Haunted House - Part 1   \\n Everyone Found Out What My Crush And I Did In A Haunted House - Part 2   \\n I’m Turning Into A Lobster (I have a rare disease)   \\n I Got Revenge On My Mom By Marrying A Zombie Doll   \\n My Dead Friend Sent Me A Terrifying Video   \\n My Dirty Revenge On My Boyfriend Went SO WRONG   \\n My BF Did The Most Horrible Thing During The Lockdown (I thought I’d die)   \\n I Was Dating My Cousin For 5 Months Without Knowing It & 3 Other Worst Dating Disasters \\n I Wanted To Look Like An Anime Girl But Everything Went Wrong   \\n I Post Gossip About The Most Popular Girl At School (I destroyed her life)   \\n Doctors Couldn‘t Decide What My Gender Was (my parents lied to me for years)   \\n Doctors Couldn‘t Decide What My Gender Was (my parents lied to me for years)   \\n I Wanted To Escape School So Badly, I Blinded Myself   \\n I Wanted To Escape School So Badly, I Blinded Myself   \\n I Wanted To Escape School So Badly, I Blinded Myself   \\n My Mom Was Always Locking Her Room - I Found Out Her Secret   \\n 6 Worst One-Night Stand Fails (get ready to cringe) \\n Somebody Was Secretly Living In My House And Leaving Mysterious Packages   \\n I Was Punished For Being Gay In The Most Horrible Way   \\n I Was Haunted By A Ghost For 5 Years (what does he want?)   \\n I Was Haunted By A Ghost For 5 Years (what does he want?)   \\n My Friends Used My Weird Condition In The Worst Way Possible (I ended up in the hospital) \\n I’m Gay And I Was Born Into A Homophobic Family - My Life Is A Nightmare   \\n I’m Gay And I Was Born Into A Homophobic Family - My Life Is A Nightmare   \\n I Haven’t Left My House In 10 Years - There Is A Horrible Reason   \\n I Did What I Thought I Never Would Because Of Quarantine (my savings ended and..)   \\n I Became A Millionaire And Hid It From My Poor Family   \\n From Being The Ugly Duckling At School To Having All Of My Enemies Sucking Up To Me \\n [ Part 1 ] A Hot Model Came To Our Art Class And Stirred Everything Up! Including My Love Life \\n My BFF and I have done something to our friend’s fiancé - and we aren't proud of it! \\n My BF’s Ex And I Tried To Win Over Each Other’s BF For A Bet \\n I secretly wrote my BFF’s boyfriend love letters – then the truth came out!! \\n I Lured My Neighbor Into My Plan To Have A Baby \\n Me And My Identical Twin Are Both Pregnant At 16 With The Same Guy \\n I used my magic trick to save a girl – But I never expected that she'd play her trick on me too \\n I accidentally did a terrible thing with my student but now he says he loves my daughter \\n My half-sister flirted with my crush –  I exposed her but with an unexpected result \\n From loser to bad boy - I’ve played with her heart and now I have to live in regret \\n A gamer guy made my girl break up with me but I could never expect his real purpose \\n A strange man came to me and asked me to do an unbelievable thing \\n I have 4 different people living in my body \\n My boyfriend's twin brother pretended to be him and took advantage of me \\n Is my deceased patient’s ghost back to separate us? \\n My sister stole my diary and now I become her puppet \\n My mom stole my boyfriend using a dirty trick \\n I found out a secret that could make my frenemy steal my parents away from me - Part 1 \\n I was trapped in the men’s restroom and I enjoyed it in the end \\n My sister suddenly spoke after 12 years of being mute -  My family’s shocking secrets were revealed! \\n The money hidden under the secondhand armchair revealed a shocking secret that we hadn't expected \\n My Crush’s Girlfriend Made Me Break Up With My Boyfriend \\n My friend is an undercover cop \\n I dumped the school principal’s son and received an unexpected ending \\n My dream wedding was cursed \\n I gave my boyfriend another girlfriend \\n My twin sister wants to ruin my life, my love and my happiness \\n My Sister Can Freely Date Our Uncle After Finding Out My Family’s Secret! \\n The Red Stains Led Me To My BF’s Dark Secret \\n I Love Her, She Loves Him, But Then Everything Turns Upside Down! \\n My Mom Loves My Uncle And Put My Dad In Jail \\n If I Wasn’t Blind I Wouldn’t Be Able To See This \\n If I Wasn’t Blind I Wouldn’t Be Able To See This \\n Their Cruel Actions Led Me To Find The Perfect Man \\n Their Cruel Actions Led Me To Find The Perfect Man \\n I get a thrill from pain! - My Big Secret \\n I Just Wanted To Be Cool But… \\n Let’s Get Married If We’re Still Single at 30 \\n We got SURGERY to LOOK LIKE TWINS | share my story | short stories \\n From Being The Ugly Duckling At School To Having All Of My Enemies Sucking Up To Me \\n [ Part 1 ] A Hot Model Came To Our Art Class And Stirred Everything Up! Including My Love Life \\n My BFF and I have done something to our friend’s fiancé - and we aren't proud of it! \\n My BF’s Ex And I Tried To Win Over Each Other’s BF For A Bet \\n I secretly wrote my BFF’s boyfriend love letters – then the truth came out!! \\n I Lured My Neighbor Into My Plan To Have A Baby \\n Me And My Identical Twin Are Both Pregnant At 16 With The Same Guy \\n I used my magic trick to save a girl – But I never expected that she'd play her trick on me too \\n I accidentally did a terrible thing with my student but now he says he loves my daughter \\n My half-sister flirted with my crush –  I exposed her but with an unexpected result \\n From loser to bad boy - I’ve played with her heart and now I have to live in regret \\n A gamer guy made my girl break up with me but I could never expect his real purpose \\n A strange man came to me and asked me to do an unbelievable thing \\n I have 4 different people living in my body \\n My boyfriend's twin brother pretended to be him and took advantage of me \\n Is my deceased patient’s ghost back to separate us? \\n My sister stole my diary and now I become her puppet \\n My mom stole my boyfriend using a dirty trick \\n I found out a secret that could make my frenemy steal my parents away from me - Part 1 \\n I was trapped in the men’s restroom and I enjoyed it in the end \\n My sister suddenly spoke after 12 years of being mute -  My family’s shocking secrets were revealed! \\n The money hidden under the secondhand armchair revealed a shocking secret that we hadn't expected \\n My Crush’s Girlfriend Made Me Break Up With My Boyfriend \\n My friend is an undercover cop \\n I dumped the school principal’s son and received an unexpected ending \\n My dream wedding was cursed \\n I gave my boyfriend another girlfriend \\n My twin sister wants to ruin my life, my love and my happiness \\n My Sister Can Freely Date Our Uncle After Finding Out My Family’s Secret! \\n The Red Stains Led Me To My BF’s Dark Secret \\n I Love Her, She Loves Him, But Then Everything Turns Upside Down! \\n My Mom Loves My Uncle And Put My Dad In Jail \\n If I Wasn’t Blind I Wouldn’t Be Able To See This \\n If I Wasn’t Blind I Wouldn’t Be Able To See This \\n Their Cruel Actions Led Me To Find The Perfect Man \\n Their Cruel Actions Led Me To Find The Perfect Man \\n I get a thrill from pain! - My Big Secret \\n I Just Wanted To Be Cool But… \\n Let’s Get Married If We’re Still Single at 30 \\n We got SURGERY to LOOK LIKE TWINS | share my story | short stories \\n How Did A Few Second Change Your Life? (Reddit Stories) \\n What's The Story Behind Your Scar? (Reddit Stories) \\n What's The Worst Thing You Saw At School? (Reddit Stories) \\n What's The Most Interesting History Fact You Know? (Reddit Stories) \\n People Who Slept With A Step Relative, What Happened? (Reddit Stories) \\n What's The Worst Thing That Happened At Your School? (Reddit Stories) \\n What's The Worst Encounter You Had With A Celebrity? (Reddit Stories) \\n What Was The Best Experience You Had In Bed? (Reddit Stories) \\n People Who Cheated, Why Didn't You Break Up? (Reddit Stories) \\n Teachers, What's The Worst Thing You Confiscated Off A Student? (Reddit Stories) \\n What Was The Worst Thing Somebody Did At Your School? (Reddit Stories) \\n What's The Best Insult A Teacher Gave A Student? (Reddit Stories) \\n Lawyers, What Are Some Crazy Loopholes In The Law? (Reddit Stories) \\n What's The Worst Thing You Saw At A Bachelor Party? (Reddit Stories) \\n What Is The Biggest Lie You Are Keeping? \\n Disney Workers, What's The Strangest Thing You Have Seen? \\n Students, What's The Cringiest Thing A Teacher Has Done? \\n Did You Ever Meet A Celebrity And Pretend You Didn't Know Them? \\n Students, What's Your Best School Life-Hack? \\n Teachers, Have You Ever Made Friends With Ex Students? \\n What Screams 'I Have Rich Parents'? \\n Relatives Of Celebrities, What Is It Like? \\n Soldiers, What's The Craziest Thing That's Happened To You? \\n What Crazy Drama Is In Your Life Right Now? \\n Teachers, What Are Some Secrets That Go On At School? \\n What's The Worst Thing You've Seen At A Party? \\n Parents, What's The Funniest Reason You Were Called Into School? \\n What's The Most Awkward Situation You've Had With A Roommate? \\n What's The Most Horrifying History Fact You Know? \\n What Was Your High School's Scandal? \\n What Are Some Of Your Darkest Theories? \\n What's A Fact You Thought Was True But Is False? \\n What Was 'The Incident' At Your High School? \\n What's The Most NSFW Thing You Saw At A Bachelor Party? \\n Teachers, Who Is A Student You Will Never Forget? \\n What's Your 'Glitch In The Matrix' Story? \\n Doctors, What Are The Most Memorable Last Words You Heard? \\n Waiters, What's The Best Insult You Have Received From Rich Customers? \\n Teachers, What's The Worst Conference You Had With A Parent? \\n Security, What's The Weirdest Thing You Found In Someone's Bag? \\n Teachers, What's Your 'How Are My Students This Dumb' Moment? \\n Theme Park Workers, What's Your Horror Story? \\n What Was Your Worst Moment In High School? \\n What's The Dumbest Thing You Were Punished For At School? \\n What Was 'The Incident' At Your High School? \\n Cleaners, What's The Worst Thing You Found In A Hotel Room? \\n What's The Worst Thing You've Seen At A Party? \\n Teachers, What's The Most Awkward Position You've Been In? \\n Police, What's The Funniest Thing You Caught Kids Doing? \\n What's The Most Confusing Thing About Girls? \\n What's Your Craziest Bachelor Party Story? \\n What's The Most NSFW Thing You've Seen At A Party? \\n What Was The Craziest Thing That Happened At Your School? \\n What's The Worst Thing Your Parents Found On Your Computer? \\n What's The Funniest Reason Someone Was Expelled At Your School? \\n Escorts, Have You Ever Been Caught By The Clients Partner? \\n What's Are Some 'Cheat Codes' You've Found In Life?   \\n What Was Your 'Oh Sh*t' Moment As A Kid?   \\n What Black Market Was Going On At Your School?   \\n What's The Best Karma You Have Witnessed?   \\n Cashiers, What's The Worst Time You Blew Up On A Customer?   \\n What Started Off As A Small Lie Then Turned Into Your Life?   \\n What Fact Did You Learn Embarrassingly Late?   \\n What's The Most Legendary Thing That Happened At Your School?   \\n Girls, What's The Best Gift You've Been Given?   \\n When Did The Kid That Craved Attention Take It Too Far?   \\n How Did Your Friend Destroy The Friendship?   \\n Doctors, What's The Most Outrageous Self Diagnosis You've Heard?   \\n Girls, What's Your Cringey 'Nice Guy' Story?   \\n Tattoo Artists, What's The Worst Job You've Had?   \\n What Was The Worst Way You Got Revenge?   \\n What's The Biggest Double Standards In Men And Women?   \\n Cashiers, What Product Do You Judge People For Buying?   \\n What Industry Is Shadier Than People Realise?   \\n Doctors, What's Your 'How Did They Survive' Story?   \\n What Is Your Favourite 'Holy Sh*t' Fact?   \\n What's Your Relationship With The Person You Lost Your Virginity To?   \\n What Is Something That Really Freaks You Out?   \\n Parents, What Are Your Kids Trying To Hide From You?   \\n What Fact Sounds Fake But Is Actually Legit?   \\n What's The Most F*cked Up Online Troll You Did?   \\n Teachers, What Juicy Drama Is Going Around Your High School?   \\n People Who Were Held At Gunpoint, What Happened?   \\n Girls, What's The Worst Way A Man Flirted With You?   \\n What Industry Are You Glad We Are Killing?   \\n What's The Ultimate Petty Revenge You've Seen?   \\n Doctors, What's The Stupidest Patient You've Had?   \\n What's The Most NSFW Game Of Truth Or Dare You Played?   \\n What's A Dirty Business Tactic That Everyone Should Be Aware Of?   \\n What Illegal Thing Have You Done For A Good Reason?   \\n What's The Dumbest Thing Someone Got Offended By?   \\n What's The Best Kept Secret On The Internet?   \\n What's Your Most Insane Story?   \\n Hotel Workers, What's The Most NSFW Thing You've Seen?   \\n What's An Alarming Fact The Next Generation Have To Deal With?   \\n What Was 'The Incident' At Your High School?   \\n What's Your Worst 'Wingman' Moment?   \\n Truck Drivers, Have You Ever Been Scared When Parked At Night?   \\n Hotel Workers, What's Something You Can't Tell Us?   \\n What Job Do You Have That People Don't Know About?   \\n What True Fact Is So Baffling It Should Be False?   \\n Teachers, What's The Cringiest Thing A Student Said?   \\n What Is The Best Revenge You've Ever Gotten?   \\n Babysitters, What's The Weirdest Rule A Parent Gave You?   \\n What's The Most Outrageous Insurance Claim You've Seen?   \\n What's Your Best Story Of 'Petty Revenge'?   \\n What's The Most Awkward Thing You Saw At A School Reunion?   \\n Parents, How Did Your Kid's SO Win You Over?   \\n Divorce Lawyers, What's The Most Screwed You've Seen Someone?   \\n What Surprised You At Your 10 Year High School Reunion?   \\n What Experiments Do You Think The Government Are Doing?   \\n What's The Most Ridiculous Thing You've Seen At A Party?   \\n Chefs, What Red Flags Should You Look Our For In Restaurants?   \\n What's The Strangest Thing You Caught People Doing At School?   \\n Girls, What's Your 'Nice Girls Finish Last' Story?   \\n What's Something F*cked Up Everyone Does When Dating?   \\n Teachers, What's The Worst Thing That Happened On A School Trip?   \\n Girls Who Dated The 'Nice Guy', How Did It Go?   \\n People In A Criminal Family, When Did You Find Out?   \\n Teachers, What's The Biggest Student Meltdown You Saw?   \\n People Who Met A Celebrity, What Were They Like?   \\n Teachers, What Was The Best Student Drama You Heard?   \\n What Are Some Deeply Unsettling Facts?   \\n What's A Dirty Secret You Saw At A Bachelor Party?   \\n 911 Operators, What Was Your Most Disturbing Call?   \\n What's The Most Disturbing Secret You've Been Told?   \\n What's The Biggest Teacher Meltdown You Saw?   \\n Airline Workers, What Are Some Secrets Passengers Don't Know?   \\n When Did A Prank Go 'Too Far' At High School?   \\n What Is Your Cringiest High School Story?   \\n What Is One Thing Your SO Hid From You Until Later?   \\n Teachers, What's The Trashiest Thing You Saw A Parent Do?   \\n What's The Creepiest Thing That Ever Happened To You?   \\n What's A Commonly Known 'Fact' That Is Completely False?   \\n What's The Most NSFW Thing To Happen In Your Small Town?   \\n Uber Drivers, What's The Most F*cked Up Situation You've Been In?   \\n People Who Met A Former Crush, What Are They Like Now?   \\n Pilots, What's The Closest You've Come To A Disaster?   \\n What Is The Most Mind Boggling Fact You Know?   \\n What Conspiracy Theory Do You Believe To Be True?   \\n What Is The Most Interesting Dream You've Ever Had?   \\n Teachers, When Did Karma Finally Hit That One Student?   \\n What's The Worst Example Of 'Rich People Problems' You've Seen?   \\n What Is Your Worst 'You're On Speaker Phone' Story?   \\n What's The Worst Thing Someone Said To You During S*x   \\n What's Your Worst College Roommate Horror Story?   \\n What's Your Worst 'Neighbour From Hell' Story?   \\n What Were The Biggest 'F*ck You' From Companies?   \\n What's The Most Obscene Display Of Private Wealth You've Seen?   \\n People Dating A Twin, What's It Like?   \\n What Conspiracy Theory Makes Too Much Sense To Ignore?   \\n What Are Some Super Interesting Serial Killer Facts?   \\n Bar Staff, How Often Do Men Use The 'Safeword Drink'?   \\n What Is The Most Underrated Thing About Being In A Relationship?   \\n What Screams 'I Peaked In High School'   \\n What's The Creepiest Top Secret Leaked Document?   \\n Baby Sitters, What's Your Most NSFW Incident?   \\n What's The Ugliest Thing You've Heard An Attractive Person Say?   \\n Disney Park Employees, What's The Craziest Thing You Have Seen?   \\n People Who Have Been Fired On The Spot, What Happened?   \\n What Secrets Are In Your Profession That We Don't Know?   \\n People Who Went To School With A Celebrity, What Were They Like?   \\n What Are Some Unethical Life Hacks You Use?   \\n What's The Creepiest 'Glitch In The Matrix' You Have Seen?   \\n What's Your Funniest Experience Of Petty Revenge?   \\n Fisherman, What's Your Creepiest Story From Out At Sea?   \\n What Mild Inconvenience Drives You Crazy?   \\n What's The Darkest Secret In Your Small Town?   \\n People Who Slept With Their Boss For A Raise, What's Your Story?   \\n Divorce Lawyers, What's The Worst Reason Someone Filed For Divorce?   \\n How Did Your Friend Destroy The Friendship?   \\n What's The Craziest Thing You've Seen At Work?   \\n What's Your 'Meeting My Online Friend' Horror Story?   \\n Cops, What Strange Laws Does Your Town Have?   \\n What's A Dealbreaker No Matter How Attractive They Are?   \\n Why Did That 'One Teacher' Get Fired From Your School?   \\n What Was 'The Scandal' At Your High School?   \\n What Was The Dirtiest Trick Ever Pulled In War?   \\n What Was The Cringiest Thing You Did In Your First Relationship?   \\n Girls, What's The Worst Thing Someone Has Said When Flirting?   \\n Soldiers Reveal Secrets The Military Don't Tell You!   \\n What Is The Most Paranormal Event You Have Witnessed?   \\n Teachers, What's The Juiciest Gossip You've Heard?   \\n What Is The Greatest Comeback You Have Heard?   \\n People Share Their Favourite Creepy Fact!   \\n What Do You Envy About The Opposite Gender?   \\n Parents Share Why They Disowned Their Children   \\n What Did A Crush Do That Killed Your Interest?   \\n Surgeons Reveal Their 'OH SH*T' Moment   \\n What Turns You On Almost Instantly?   \\n What Surprised You About S*x After Your First Time?   \\n What Secret Are You Keeping Right Now?   \\n What Was The Weirdest Thing Someone Asked You To Do During S*x?   \\n What Is Your NSFW Secret That You Are Proud Of?   \\n What's The Best Thing That Happened To You In Truth Or Dare?   \\n Crime Scene Cleanup Crew Members, What's Your Most Disturbing Story?   \\n What Happens In Real Life S*x That You Never See In P*rn?   \\n Teachers Reveal Their Most NSFW Story From School!   \\n What Are Some “Girl Secrets” Guys Don’t Know About?   \\n \""
      ]
     },
     "execution_count": 16,
     "metadata": {},
     "output_type": "execute_result"
    }
   ],
   "source": [
    "Complete= Complete.replace('😎','e')\n",
    "Complete = Complete.replace('| This is my story',' ')\n",
    "Complete= Complete.replace('(r/AskReddit | Reddit Stories)',' ')\n",
    "Complete"
   ]
  },
  {
   "cell_type": "code",
   "execution_count": 17,
   "metadata": {},
   "outputs": [],
   "source": [
    "text_file = open(\"sample.txt\", \"w\")\n",
    "n = text_file.write(Complete)\n",
    "text_file.close()"
   ]
  },
  {
   "cell_type": "code",
   "execution_count": null,
   "metadata": {},
   "outputs": [],
   "source": []
  },
  {
   "cell_type": "code",
   "execution_count": null,
   "metadata": {},
   "outputs": [],
   "source": []
  },
  {
   "cell_type": "code",
   "execution_count": null,
   "metadata": {},
   "outputs": [],
   "source": []
  },
  {
   "cell_type": "code",
   "execution_count": null,
   "metadata": {},
   "outputs": [],
   "source": []
  },
  {
   "cell_type": "code",
   "execution_count": null,
   "metadata": {},
   "outputs": [],
   "source": []
  },
  {
   "cell_type": "code",
   "execution_count": null,
   "metadata": {},
   "outputs": [],
   "source": []
  },
  {
   "cell_type": "code",
   "execution_count": null,
   "metadata": {},
   "outputs": [],
   "source": []
  },
  {
   "cell_type": "code",
   "execution_count": null,
   "metadata": {},
   "outputs": [],
   "source": []
  },
  {
   "cell_type": "code",
   "execution_count": null,
   "metadata": {},
   "outputs": [],
   "source": []
  },
  {
   "cell_type": "code",
   "execution_count": null,
   "metadata": {},
   "outputs": [],
   "source": []
  },
  {
   "cell_type": "markdown",
   "metadata": {},
   "source": [
    "Este codigo de abajo solo si los videos de la lista tienen CC"
   ]
  },
  {
   "cell_type": "code",
   "execution_count": 10,
   "metadata": {},
   "outputs": [],
   "source": [
    "def get_all_ccs(videos):\n",
    "    base_url = 'https://www.youtube.com/watch?v='\n",
    "    lang=\"en\"\n",
    "    for vid in videos:\n",
    "        url = base_url + vid\n",
    "        cmd = [\"youtube-dl\",\"--skip-download\",\"--write-sub\",\n",
    "               \"--sub-lang\",lang,url]\n",
    "        os.system(\" \".join(cmd))"
   ]
  },
  {
   "cell_type": "code",
   "execution_count": 11,
   "metadata": {},
   "outputs": [
    {
     "ename": "KeyboardInterrupt",
     "evalue": "",
     "output_type": "error",
     "traceback": [
      "\u001b[1;31m---------------------------------------------------------------------------\u001b[0m",
      "\u001b[1;31mKeyboardInterrupt\u001b[0m                         Traceback (most recent call last)",
      "\u001b[1;32m<ipython-input-11-157b5d43513e>\u001b[0m in \u001b[0;36m<module>\u001b[1;34m\u001b[0m\n\u001b[1;32m----> 1\u001b[1;33m \u001b[0mget_all_ccs\u001b[0m\u001b[1;33m(\u001b[0m\u001b[0mvideo_df\u001b[0m\u001b[1;33m.\u001b[0m\u001b[0mvideoids\u001b[0m\u001b[1;33m)\u001b[0m\u001b[1;33m\u001b[0m\u001b[1;33m\u001b[0m\u001b[0m\n\u001b[0m",
      "\u001b[1;32m<ipython-input-10-9a14d6f23cd8>\u001b[0m in \u001b[0;36mget_all_ccs\u001b[1;34m(videos)\u001b[0m\n\u001b[0;32m      6\u001b[0m         cmd = [\"youtube-dl\",\"--skip-download\",\"--write-sub\",\n\u001b[0;32m      7\u001b[0m                \"--sub-lang\",lang,url]\n\u001b[1;32m----> 8\u001b[1;33m         \u001b[0mos\u001b[0m\u001b[1;33m.\u001b[0m\u001b[0msystem\u001b[0m\u001b[1;33m(\u001b[0m\u001b[1;34m\" \"\u001b[0m\u001b[1;33m.\u001b[0m\u001b[0mjoin\u001b[0m\u001b[1;33m(\u001b[0m\u001b[0mcmd\u001b[0m\u001b[1;33m)\u001b[0m\u001b[1;33m)\u001b[0m\u001b[1;33m\u001b[0m\u001b[1;33m\u001b[0m\u001b[0m\n\u001b[0m",
      "\u001b[1;31mKeyboardInterrupt\u001b[0m: "
     ]
    }
   ],
   "source": [
    "get_all_ccs(video_df.videoids)"
   ]
  },
  {
   "cell_type": "code",
   "execution_count": 12,
   "metadata": {},
   "outputs": [
    {
     "data": {
      "text/plain": [
       "[]"
      ]
     },
     "execution_count": 12,
     "metadata": {},
     "output_type": "execute_result"
    }
   ],
   "source": [
    "filenames_vtt = [os.fsdecode(file) for file in os.listdir(os.getcwd()) if os.fsdecode(file).endswith(\".vtt\")]\n",
    "#Check file names\n",
    "filenames_vtt[:2]"
   ]
  },
  {
   "cell_type": "code",
   "execution_count": null,
   "metadata": {},
   "outputs": [],
   "source": [
    "import webvtt\n",
    "def convert_vtt(filenames):    \n",
    "    #create an assets folder if one does not yet exist\n",
    "    if os.path.isdir('{}/assets'.format(os.getcwd())) == False:\n",
    "        os.makedirs('assets')\n",
    "    #extract the text and times from the vtt file\n",
    "    for file in filenames:\n",
    "        captions = webvtt.read(file)\n",
    "        text_time = pd.DataFrame()\n",
    "        text_time['text'] = [caption.text for caption in captions]\n",
    "        text_time['start'] = [caption.start for caption in captions]\n",
    "        text_time['stop'] = [caption.end for caption in captions]\n",
    "        text_time.to_csv('assets/{}.csv'.format(file[:-4]),index=False) #-4 to remove '.vtt'\n",
    "        #remove files from local drive\n",
    "        os.remove(file)"
   ]
  },
  {
   "cell_type": "code",
   "execution_count": null,
   "metadata": {},
   "outputs": [],
   "source": [
    "#call the function\n",
    "convert_vtt(filenames_vtt)"
   ]
  },
  {
   "cell_type": "code",
   "execution_count": null,
   "metadata": {},
   "outputs": [],
   "source": [
    "csv_files = [os.fsdecode(file) for file in os.listdir(os.getcwd()+'/assets') if os.fsdecode(file).endswith('.csv')]\n",
    "#take a look at a file name\n",
    "csv_files[0]\n",
    "output:\n",
    "'Visualizing a column space as a plane in R3 _ Vectors and spaces _ Linear Algebra _ Khan Academy-EGNlXtjYABw.en.csv'"
   ]
  },
  {
   "cell_type": "code",
   "execution_count": null,
   "metadata": {},
   "outputs": [],
   "source": [
    "path = 'assets/'\n",
    "for filename in csv_files:\n",
    "    os.rename(os.path.join(path, filename), os.path.join(path, filename.replace(' ', '')))\n",
    "#to verify the results\n",
    "clean_csv = [os.fsdecode(file) for file in os.listdir(os.getcwd()+'/assets')]\n",
    "clean_csv[0]\n",
    "output:\n",
    "'VisualizingacolumnspaceasaplaneinR3_Vectorsandspaces_LinearAlgebra_KhanAcademy-EGNlXtjYABw.en.csv'"
   ]
  },
  {
   "cell_type": "code",
   "execution_count": null,
   "metadata": {},
   "outputs": [],
   "source": [
    "#extract the text and videoid\n",
    "vidText = []\n",
    "csv_vidid = []\n",
    "\n",
    "for file in clean_csv:\n",
    "   df = pd.read_csv(path+file)\n",
    "   text = “ “.join(df.text)\n",
    "   vidText.append(text)\n",
    "   csv_vidid.append(file[-18:-7])"
   ]
  },
  {
   "cell_type": "code",
   "execution_count": null,
   "metadata": {},
   "outputs": [],
   "source": [
    "lectures_df = pd.DataFrame()\n",
    "lectures_df['lecture_title'] = clean_csv\n",
    "lectures_df['lecture_text'] = vidText\n",
    "lectures_df['vid_id'] = csv_vidid"
   ]
  },
  {
   "cell_type": "code",
   "execution_count": null,
   "metadata": {},
   "outputs": [],
   "source": [
    "base_df = lectures_df.set_index(‘vid_id’).join(video_df.set_index(‘videoids’)).reset_index()"
   ]
  },
  {
   "cell_type": "code",
   "execution_count": null,
   "metadata": {},
   "outputs": [],
   "source": []
  }
 ],
 "metadata": {
  "kernelspec": {
   "display_name": "Python 3",
   "language": "python",
   "name": "python3"
  },
  "language_info": {
   "codemirror_mode": {
    "name": "ipython",
    "version": 3
   },
   "file_extension": ".py",
   "mimetype": "text/x-python",
   "name": "python",
   "nbconvert_exporter": "python",
   "pygments_lexer": "ipython3",
   "version": "3.8.5"
  }
 },
 "nbformat": 4,
 "nbformat_minor": 4
}
